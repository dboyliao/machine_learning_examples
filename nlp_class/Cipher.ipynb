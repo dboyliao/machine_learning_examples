{
 "cells": [
  {
   "cell_type": "code",
   "execution_count": 1,
   "metadata": {
    "ExecuteTime": {
     "end_time": "2020-03-08T06:33:51.993293Z",
     "start_time": "2020-03-08T06:33:51.427529Z"
    },
    "colab": {},
    "colab_type": "code",
    "id": "5XgKTMRwUHu6"
   },
   "outputs": [],
   "source": [
    "# https://deeplearningcourses.com/c/data-science-natural-language-processing-in-python\n",
    "# https://www.udemy.com/data-science-natural-language-processing-in-python\n",
    "\n",
    "# Author: http://lazyprogrammer.me\n",
    "\n",
    "import numpy as np\n",
    "import matplotlib.pyplot as plt\n",
    "\n",
    "import string\n",
    "import random\n",
    "import re\n",
    "import requests\n",
    "import os\n",
    "import textwrap"
   ]
  },
  {
   "cell_type": "code",
   "execution_count": 2,
   "metadata": {
    "ExecuteTime": {
     "end_time": "2020-03-08T06:33:52.001036Z",
     "start_time": "2020-03-08T06:33:51.996036Z"
    },
    "colab": {},
    "colab_type": "code",
    "id": "zMrtqw5DUNp3"
   },
   "outputs": [],
   "source": [
    "### create substitution cipher\n",
    "\n",
    "# one will act as the key, other as the value\n",
    "letters1 = list(string.ascii_lowercase)\n",
    "letters2 = list(string.ascii_lowercase)\n",
    "\n",
    "true_mapping = {}\n",
    "\n",
    "# shuffle second set of letters\n",
    "random.shuffle(letters2)\n",
    "\n",
    "# populate map\n",
    "for k, v in zip(letters1, letters2):\n",
    "    true_mapping[k] = v"
   ]
  },
  {
   "cell_type": "code",
   "execution_count": 3,
   "metadata": {
    "ExecuteTime": {
     "end_time": "2020-03-08T06:33:52.464997Z",
     "start_time": "2020-03-08T06:33:52.452786Z"
    },
    "colab": {},
    "colab_type": "code",
    "id": "IyAGzd5iUQ_W"
   },
   "outputs": [],
   "source": [
    "### the language model\n",
    "\n",
    "# initialize Markov matrix\n",
    "M = np.ones((26, 26))\n",
    "\n",
    "# initial state distribution\n",
    "pi = np.zeros(26)\n",
    "\n",
    "# a function to update the Markov matrix\n",
    "def update_transition(ch1, ch2):\n",
    "    # ord('a') = 97, ord('b') = 98, ...\n",
    "    i = ord(ch1) - 97\n",
    "    j = ord(ch2) - 97\n",
    "    M[i,j] += 1\n",
    "\n",
    "# a function to update the initial state distribution\n",
    "def update_pi(ch):\n",
    "    i = ord(ch) - 97\n",
    "    pi[i] += 1\n",
    "\n",
    "# get the log-probability of a word / token\n",
    "def get_word_prob(word):\n",
    "    # print(\"word:\", word)\n",
    "    i = ord(word[0]) - 97\n",
    "    logp = np.log(pi[i])\n",
    "\n",
    "    for ch in word[1:]:\n",
    "        j = ord(ch) - 97\n",
    "        logp += np.log(M[i, j]) # update prob\n",
    "        i = j # update j\n",
    "\n",
    "    return logp\n",
    "\n",
    "# get the probability of a sequence of words\n",
    "def get_sequence_prob(words):\n",
    "    # if input is a string, split into an array of tokens\n",
    "    if type(words) == str:\n",
    "        words = words.split()\n",
    "\n",
    "    logp = 0\n",
    "    for word in words:\n",
    "        logp += get_word_prob(word)\n",
    "    return logp"
   ]
  },
  {
   "cell_type": "code",
   "execution_count": 4,
   "metadata": {
    "ExecuteTime": {
     "end_time": "2020-03-08T06:33:55.442213Z",
     "start_time": "2020-03-08T06:33:52.954164Z"
    },
    "colab": {},
    "colab_type": "code",
    "id": "sEUrJ4J_UU-w"
   },
   "outputs": [
    {
     "name": "stdout",
     "output_type": "stream",
     "text": [
      "Downloading moby dick...\n"
     ]
    }
   ],
   "source": [
    "### create a markov model based on an English dataset\n",
    "# is an edit of https://www.gutenberg.org/ebooks/2701\n",
    "# (I removed the front and back matter)\n",
    "\n",
    "# download the file\n",
    "if not os.path.exists('moby_dick.txt'):\n",
    "    print(\"Downloading moby dick...\")\n",
    "    r = requests.get('https://lazyprogrammer.me/course_files/moby_dick.txt')\n",
    "    with open('moby_dick.txt', 'w') as f:\n",
    "        f.write(r.content.decode())"
   ]
  },
  {
   "cell_type": "code",
   "execution_count": 5,
   "metadata": {
    "ExecuteTime": {
     "end_time": "2020-03-08T06:33:56.422062Z",
     "start_time": "2020-03-08T06:33:55.445999Z"
    },
    "colab": {},
    "colab_type": "code",
    "id": "PxacIxtyUZFd"
   },
   "outputs": [],
   "source": [
    "# for replacing non-alpha characters\n",
    "regex = re.compile('[^a-zA-Z]')\n",
    "\n",
    "# load in words\n",
    "for line in open('moby_dick.txt'):\n",
    "  line = line.rstrip()\n",
    "\n",
    "  # there are blank lines in the file\n",
    "  if line:\n",
    "    line = regex.sub(' ', line) # replace all non-alpha characters with space\n",
    "\n",
    "    # split the tokens in the line and lowercase\n",
    "    tokens = line.lower().split()\n",
    "\n",
    "    for token in tokens:\n",
    "      # update the model\n",
    "\n",
    "      # first letter\n",
    "      ch0 = token[0]\n",
    "      update_pi(ch0)\n",
    "\n",
    "      # other letters\n",
    "      for ch1 in token[1:]:\n",
    "        update_transition(ch0, ch1)\n",
    "        ch0 = ch1\n",
    "\n",
    "# normalize the probabilities\n",
    "pi /= pi.sum()\n",
    "M /= M.sum(axis=1, keepdims=True)"
   ]
  },
  {
   "cell_type": "code",
   "execution_count": 6,
   "metadata": {
    "ExecuteTime": {
     "end_time": "2020-03-08T06:33:56.435475Z",
     "start_time": "2020-03-08T06:33:56.426116Z"
    },
    "colab": {},
    "colab_type": "code",
    "id": "3FxNj6V2UdM3"
   },
   "outputs": [],
   "source": [
    "### encode a message\n",
    "\n",
    "# this is a random excerpt from Project Gutenberg's\n",
    "# The Adventures of Sherlock Holmes, by Arthur Conan Doyle\n",
    "# https://www.gutenberg.org/ebooks/1661\n",
    "\n",
    "original_message = '''I then lounged down the street and found,\n",
    "as I expected, that there was a mews in a lane which runs down\n",
    "by one wall of the garden. I lent the ostlers a hand in rubbing\n",
    "down their horses, and received in exchange twopence, a glass of\n",
    "half-and-half, two fills of shag tobacco, and as much information\n",
    "as I could desire about Miss Adler, to say nothing of half a dozen\n",
    "other people in the neighbourhood in whom I was not in the least\n",
    "interested, but whose biographies I was compelled to listen to.\n",
    "'''\n",
    "\n",
    "# Away they went, and I was just wondering whether I should not do well\n",
    "# to follow them when up the lane came a neat little landau, the coachman\n",
    "# with his coat only half-buttoned, and his tie under his ear, while all\n",
    "# the tags of his harness were sticking out of the buckles. It hadn't\n",
    "# pulled up before she shot out of the hall door and into it. I only\n",
    "# caught a glimpse of her at the moment, but she was a lovely woman, with\n",
    "# a face that a man might die for.\n",
    "\n",
    "# My cabby drove fast. I don't think I ever drove faster, but the others\n",
    "# were there before us. The cab and the landau with their steaming horses\n",
    "# were in front of the door when I arrived. I paid the man and hurried\n",
    "# into the church. There was not a soul there save the two whom I had\n",
    "# followed and a surpliced clergyman, who seemed to be expostulating with\n",
    "# them. They were all three standing in a knot in front of the altar. I\n",
    "# lounged up the side aisle like any other idler who has dropped into a\n",
    "# church. Suddenly, to my surprise, the three at the altar faced round to\n",
    "# me, and Godfrey Norton came running as hard as he could towards me."
   ]
  },
  {
   "cell_type": "code",
   "execution_count": 7,
   "metadata": {
    "ExecuteTime": {
     "end_time": "2020-03-08T06:33:56.446519Z",
     "start_time": "2020-03-08T06:33:56.438338Z"
    },
    "colab": {},
    "colab_type": "code",
    "id": "LRuQ15YJUgDm"
   },
   "outputs": [],
   "source": [
    "# a function to encode a message\n",
    "def encode_message(msg):\n",
    "  # downcase\n",
    "  msg = msg.lower()\n",
    "\n",
    "  # replace non-alpha characters\n",
    "  msg = regex.sub(' ', msg)\n",
    "\n",
    "  # make the encoded message\n",
    "  coded_msg = []\n",
    "  for ch in msg:\n",
    "    coded_ch = ch # could just be a space\n",
    "    if ch in true_mapping:\n",
    "      coded_ch = true_mapping[ch]\n",
    "    coded_msg.append(coded_ch)\n",
    "\n",
    "  return ''.join(coded_msg)\n",
    "\n",
    "\n",
    "encoded_message = encode_message(original_message)\n",
    "\n",
    "\n",
    "# a function to decode a message\n",
    "def decode_message(msg, word_map):\n",
    "  decoded_msg = []\n",
    "  for ch in msg:\n",
    "    decoded_ch = ch # could just be a space\n",
    "    if ch in word_map:\n",
    "      decoded_ch = word_map[ch]\n",
    "    decoded_msg.append(decoded_ch)\n",
    "\n",
    "  return ''.join(decoded_msg)"
   ]
  },
  {
   "cell_type": "code",
   "execution_count": 8,
   "metadata": {
    "ExecuteTime": {
     "end_time": "2020-03-08T06:33:56.459667Z",
     "start_time": "2020-03-08T06:33:56.450298Z"
    },
    "colab": {},
    "colab_type": "code",
    "id": "Ogy2tFp2UjEW"
   },
   "outputs": [],
   "source": [
    "### run an evolutionary algorithm to decode the message\n",
    "\n",
    "# this is our initialization point\n",
    "dna_pool = []\n",
    "for _ in range(20):\n",
    "  dna = list(string.ascii_lowercase)\n",
    "  random.shuffle(dna)\n",
    "  dna_pool.append(dna)"
   ]
  },
  {
   "cell_type": "code",
   "execution_count": 9,
   "metadata": {
    "ExecuteTime": {
     "end_time": "2020-03-08T06:33:56.972774Z",
     "start_time": "2020-03-08T06:33:56.966679Z"
    },
    "colab": {},
    "colab_type": "code",
    "id": "rHjSLs-OU33M"
   },
   "outputs": [],
   "source": [
    "def evolve_offspring(dna_pool, n_children):\n",
    "  # make n_children per offspring\n",
    "  offspring = []\n",
    "\n",
    "  for dna in dna_pool:\n",
    "    for _ in range(n_children):\n",
    "      copy = dna.copy()\n",
    "      j = np.random.randint(len(copy))\n",
    "      k = np.random.randint(len(copy))\n",
    "\n",
    "      # switch\n",
    "      tmp = copy[j]\n",
    "      copy[j] = copy[k]\n",
    "      copy[k] = tmp\n",
    "      offspring.append(copy)\n",
    "\n",
    "  return offspring + dna_pool"
   ]
  },
  {
   "cell_type": "code",
   "execution_count": 10,
   "metadata": {
    "ExecuteTime": {
     "end_time": "2020-03-08T06:34:13.477992Z",
     "start_time": "2020-03-08T06:33:57.826849Z"
    },
    "colab": {
     "base_uri": "https://localhost:8080/",
     "height": 102
    },
    "colab_type": "code",
    "id": "C6lnKzJkUnzn",
    "outputId": "e13c50fe-d20e-43ee-e8bb-c82ffe5bda85"
   },
   "outputs": [
    {
     "name": "stdout",
     "output_type": "stream",
     "text": [
      "iter: 0 score: -2092.74846695415 best so far: -1833.045249721057\n",
      "iter: 200 score: -1296.5582461202055 best so far: -1233.1451812570913\n",
      "iter: 400 score: -1287.2877743596484 best so far: -1232.1553168840305\n",
      "iter: 600 score: -1281.5054540145563 best so far: -1232.1553168840305\n",
      "iter: 800 score: -1282.0084085834633 best so far: -1232.1553168840305\n"
     ]
    }
   ],
   "source": [
    "num_iters = 1000\n",
    "scores = np.zeros(num_iters)\n",
    "best_dna = None\n",
    "best_map = None\n",
    "best_score = float('-inf')\n",
    "for i in range(num_iters):\n",
    "  if i > 0:\n",
    "    # get offspring from the current dna pool\n",
    "    dna_pool = evolve_offspring(dna_pool, 3)\n",
    "\n",
    "  # calculate score for each dna\n",
    "  dna2score = {}\n",
    "  for dna in dna_pool:\n",
    "    # populate map\n",
    "    current_map = {}\n",
    "    for k, v in zip(letters1, dna):\n",
    "      current_map[k] = v\n",
    "\n",
    "    decoded_message = decode_message(encoded_message, current_map)\n",
    "    score = get_sequence_prob(decoded_message)\n",
    "\n",
    "    # store it\n",
    "    # needs to be a string to be a dict key\n",
    "    dna2score[''.join(dna)] = score\n",
    "\n",
    "    # record the best so far\n",
    "    if score > best_score:\n",
    "      best_dna = dna\n",
    "      best_map = current_map\n",
    "      best_score = score\n",
    "\n",
    "  # average score for this generation\n",
    "  scores[i] = np.mean(list(dna2score.values()))\n",
    "\n",
    "  # keep the best 5 dna\n",
    "  # also turn them back into list of single chars\n",
    "  sorted_dna = sorted(dna2score.items(), key=lambda x: x[1], reverse=True)\n",
    "  dna_pool = [list(k) for k, v in sorted_dna[:5]]\n",
    "\n",
    "  if i % 200 == 0:\n",
    "    print(\"iter:\", i, \"score:\", scores[i], \"best so far:\", best_score)\n"
   ]
  },
  {
   "cell_type": "code",
   "execution_count": 11,
   "metadata": {
    "ExecuteTime": {
     "end_time": "2020-03-08T06:34:14.370134Z",
     "start_time": "2020-03-08T06:34:14.361266Z"
    },
    "colab": {
     "base_uri": "https://localhost:8080/",
     "height": 102
    },
    "colab_type": "code",
    "id": "TBI4r2roUqP9",
    "outputId": "b215627b-1f64-4006-af25-abca5c096406"
   },
   "outputs": [
    {
     "name": "stdout",
     "output_type": "stream",
     "text": [
      "LL of decoded message: -1232.1553168840305\n",
      "LL of true message: -933.0312453751817\n",
      "true: a, pred: n\n",
      "true: b, pred: c\n",
      "true: c, pred: p\n",
      "true: e, pred: r\n",
      "true: f, pred: h\n",
      "true: g, pred: y\n",
      "true: h, pred: o\n",
      "true: i, pred: l\n",
      "true: k, pred: q\n",
      "true: l, pred: g\n",
      "true: m, pred: b\n",
      "true: n, pred: e\n",
      "true: o, pred: a\n",
      "true: p, pred: u\n",
      "true: q, pred: z\n",
      "true: r, pred: i\n",
      "true: u, pred: x\n",
      "true: v, pred: f\n",
      "true: x, pred: m\n",
      "true: y, pred: k\n",
      "true: z, pred: v\n"
     ]
    }
   ],
   "source": [
    "# use best score\n",
    "decoded_message = decode_message(encoded_message, best_map)\n",
    "\n",
    "print(\"LL of decoded message:\", get_sequence_prob(decoded_message))\n",
    "print(\"LL of true message:\", get_sequence_prob(regex.sub(' ', original_message.lower())))\n",
    "\n",
    "\n",
    "# which letters are wrong?\n",
    "for true, v in true_mapping.items():\n",
    "  pred = best_map[v]\n",
    "  if true != pred:\n",
    "    print(\"true: %s, pred: %s\" % (true, pred))"
   ]
  },
  {
   "cell_type": "code",
   "execution_count": 12,
   "metadata": {
    "ExecuteTime": {
     "end_time": "2020-03-08T06:34:24.322686Z",
     "start_time": "2020-03-08T06:34:24.317815Z"
    },
    "colab": {
     "base_uri": "https://localhost:8080/",
     "height": 357
    },
    "colab_type": "code",
    "id": "cZqTut0mU-6S",
    "outputId": "0dab349d-218b-475b-919e-d813a7626d5c"
   },
   "outputs": [
    {
     "name": "stdout",
     "output_type": "stream",
     "text": [
      "Decoded message:\n",
      " l tore gaxeyrd dawe tor stirrt ned haxed  ns l rmurptrd  tont torir\n",
      "wns n brws le n gner wolpo ixes dawe ck aer wngg ah tor ynidre  l gret\n",
      "tor astgris n oned le ixccley dawe torli oaisrs  ned irprlfrd le\n",
      "rmponeyr twaurepr  n ygnss ah ongh ned ongh  twa hlggs ah sony tacnppa\n",
      "ned ns bxpo lehaibntlae ns l paxgd drslir ncaxt blss ndgri  ta snk\n",
      "eatoley ah ongh n davre atori uraugr le tor erlyocaxioaad le woab l\n",
      "wns eat le tor grnst letrirstrd  cxt woasr clayinuolrs l wns paburggrd\n",
      "ta glstre ta\n",
      "\n",
      "True message:\n",
      " I then lounged down the street and found,\n",
      "as I expected, that there was a mews in a lane which runs down\n",
      "by one wall of the garden. I lent the ostlers a hand in rubbing\n",
      "down their horses, and received in exchange twopence, a glass of\n",
      "half-and-half, two fills of shag tobacco, and as much information\n",
      "as I could desire about Miss Adler, to say nothing of half a dozen\n",
      "other people in the neighbourhood in whom I was not in the least\n",
      "interested, but whose biographies I was compelled to listen to.\n",
      "\n"
     ]
    }
   ],
   "source": [
    "# print the final decoded message\n",
    "print(\"Decoded message:\\n\", textwrap.fill(decoded_message))\n",
    "\n",
    "print(\"\\nTrue message:\\n\", original_message)"
   ]
  },
  {
   "cell_type": "code",
   "execution_count": 13,
   "metadata": {
    "ExecuteTime": {
     "end_time": "2020-03-08T06:34:34.448036Z",
     "start_time": "2020-03-08T06:34:34.262510Z"
    },
    "colab": {
     "base_uri": "https://localhost:8080/",
     "height": 265
    },
    "colab_type": "code",
    "id": "3CycJAYFVfoW",
    "outputId": "8714691d-1873-4eb6-9170-5308b40998bc"
   },
   "outputs": [
    {
     "data": {
      "image/png": "[encoded data removed]",
      "text/plain": [
       "<Figure size 432x288 with 1 Axes>"
      ]
     },
     "metadata": {
      "needs_background": "light"
     },
     "output_type": "display_data"
    }
   ],
   "source": [
    "plt.plot(scores)\n",
    "plt.show()"
   ]
  },
  {
   "cell_type": "code",
   "execution_count": null,
   "metadata": {},
   "outputs": [],
   "source": []
  }
 ],
 "metadata": {
  "colab": {
   "name": "Cipher.ipynb",
   "provenance": []
  },
  "kernelspec": {
   "display_name": "Python 3",
   "language": "python",
   "name": "python3"
  },
  "language_info": {
   "codemirror_mode": {
    "name": "ipython",
    "version": 3
   },
   "file_extension": ".py",
   "mimetype": "text/x-python",
   "name": "python",
   "nbconvert_exporter": "python",
   "pygments_lexer": "ipython3",
   "version": "3.6.8"
  },
  "toc": {
   "nav_menu": {},
   "number_sections": true,
   "sideBar": true,
   "skip_h1_title": false,
   "toc_cell": false,
   "toc_position": {},
   "toc_section_display": "block",
   "toc_window_display": false
  }
 },
 "nbformat": 4,
 "nbformat_minor": 1
}
