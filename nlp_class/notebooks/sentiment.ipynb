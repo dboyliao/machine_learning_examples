{
 "cells": [
  {
   "cell_type": "code",
   "execution_count": 2,
   "metadata": {
    "ExecuteTime": {
     "end_time": "2020-03-10T08:35:38.519754Z",
     "start_time": "2020-03-10T08:35:38.420864Z"
    }
   },
   "outputs": [],
   "source": [
    "from bs4 import BeautifulSoup"
   ]
  },
  {
   "cell_type": "code",
   "execution_count": 3,
   "metadata": {
    "ExecuteTime": {
     "end_time": "2020-03-10T08:35:39.680721Z",
     "start_time": "2020-03-10T08:35:38.639321Z"
    }
   },
   "outputs": [],
   "source": [
    "from nltk.stem.wordnet import WordNetLemmatizer"
   ]
  },
  {
   "cell_type": "code",
   "execution_count": 4,
   "metadata": {
    "ExecuteTime": {
     "end_time": "2020-03-10T08:35:39.687524Z",
     "start_time": "2020-03-10T08:35:39.683204Z"
    }
   },
   "outputs": [],
   "source": [
    "wn_lemmatizer = WordNetLemmatizer()"
   ]
  },
  {
   "cell_type": "code",
   "execution_count": 14,
   "metadata": {
    "ExecuteTime": {
     "end_time": "2020-03-10T08:36:26.556675Z",
     "start_time": "2020-03-10T08:36:26.059924Z"
    }
   },
   "outputs": [],
   "source": [
    "with open('../electronics/positive.review') as fid:\n",
    "    positive_review_html = fid.read()\n",
    "positive_reviews = BeautifulSoup(positive_review_html).findAll('review_text')"
   ]
  },
  {
   "cell_type": "code",
   "execution_count": 15,
   "metadata": {
    "ExecuteTime": {
     "end_time": "2020-03-10T08:36:27.020096Z",
     "start_time": "2020-03-10T08:36:27.013197Z"
    }
   },
   "outputs": [
    {
     "data": {
      "text/plain": [
       "1000"
      ]
     },
     "execution_count": 15,
     "metadata": {},
     "output_type": "execute_result"
    }
   ],
   "source": [
    "len(positive_reviews)"
   ]
  },
  {
   "cell_type": "code",
   "execution_count": 16,
   "metadata": {
    "ExecuteTime": {
     "end_time": "2020-03-10T08:36:28.050864Z",
     "start_time": "2020-03-10T08:36:27.399390Z"
    }
   },
   "outputs": [],
   "source": [
    "with open('../electronics/negative.review') as fid:\n",
    "    negative_review_html = fid.read()\n",
    "negative_reviews = BeautifulSoup(negative_review_html).findAll('review_text')"
   ]
  },
  {
   "cell_type": "code",
   "execution_count": 17,
   "metadata": {
    "ExecuteTime": {
     "end_time": "2020-03-10T08:36:28.320623Z",
     "start_time": "2020-03-10T08:36:28.315532Z"
    }
   },
   "outputs": [
    {
     "data": {
      "text/plain": [
       "1000"
      ]
     },
     "execution_count": 17,
     "metadata": {},
     "output_type": "execute_result"
    }
   ],
   "source": [
    "len(negative_reviews)"
   ]
  },
  {
   "cell_type": "code",
   "execution_count": 20,
   "metadata": {
    "ExecuteTime": {
     "end_time": "2020-03-10T08:36:34.709420Z",
     "start_time": "2020-03-10T08:36:34.705801Z"
    }
   },
   "outputs": [],
   "source": [
    "import nltk"
   ]
  },
  {
   "cell_type": "code",
   "execution_count": 21,
   "metadata": {
    "ExecuteTime": {
     "end_time": "2020-03-10T08:36:35.221752Z",
     "start_time": "2020-03-10T08:36:35.217891Z"
    }
   },
   "outputs": [],
   "source": [
    "from sklearn.linear_model import LogisticRegression"
   ]
  },
  {
   "cell_type": "code",
   "execution_count": 22,
   "metadata": {
    "ExecuteTime": {
     "end_time": "2020-03-10T08:36:35.707251Z",
     "start_time": "2020-03-10T08:36:35.704149Z"
    }
   },
   "outputs": [],
   "source": [
    "from sklearn.feature_extraction.text import CountVectorizer"
   ]
  },
  {
   "cell_type": "code",
   "execution_count": 23,
   "metadata": {
    "ExecuteTime": {
     "end_time": "2020-03-10T08:36:36.194513Z",
     "start_time": "2020-03-10T08:36:36.179117Z"
    }
   },
   "outputs": [],
   "source": [
    "all_texts = [review.text.strip().lower() for review in positive_reviews]\n",
    "all_texts += [review.text.strip().lower() for review in negative_reviews]\n",
    "labels = ['positive' for _ in positive_reviews]\n",
    "labels += ['negative' for _ in negative_reviews]"
   ]
  },
  {
   "cell_type": "code",
   "execution_count": 25,
   "metadata": {
    "ExecuteTime": {
     "end_time": "2020-03-10T08:36:50.544325Z",
     "start_time": "2020-03-10T08:36:45.866430Z"
    }
   },
   "outputs": [],
   "source": [
    "for i, text in enumerate(all_texts):\n",
    "    words = nltk.tokenize.word_tokenize(text)\n",
    "    text = ' '.join(map(lambda w: wn_lemmatizer.lemmatize(w), words))\n",
    "    all_texts[i] = text"
   ]
  },
  {
   "cell_type": "code",
   "execution_count": 26,
   "metadata": {
    "ExecuteTime": {
     "end_time": "2020-03-10T08:36:50.560589Z",
     "start_time": "2020-03-10T08:36:50.546584Z"
    }
   },
   "outputs": [
    {
     "data": {
      "text/plain": [
       "'i purchased this unit due to frequent blackout in my area and 2 power supply going bad . it will run my cable modem , router , pc , and lcd monitor for 5 minute . this is more than enough time to save work and shut down . equally important , i know that my electronics are receiving clean power . i feel that this investment is minor compared to the loss of valuable data or the failure of equipment due to a power spike or an irregular power supply . a always , amazon had it to me in < 2 business day'"
      ]
     },
     "execution_count": 26,
     "metadata": {},
     "output_type": "execute_result"
    }
   ],
   "source": [
    "all_texts[0]"
   ]
  },
  {
   "cell_type": "code",
   "execution_count": 30,
   "metadata": {
    "ExecuteTime": {
     "end_time": "2020-03-10T08:38:03.946957Z",
     "start_time": "2020-03-10T08:38:03.941845Z"
    }
   },
   "outputs": [],
   "source": [
    "with open('../stopwords.txt') as fid:\n",
    "    stop_words = set(map(lambda w: w.strip(), fid.readlines()))"
   ]
  },
  {
   "cell_type": "code",
   "execution_count": 31,
   "metadata": {
    "ExecuteTime": {
     "end_time": "2020-03-10T08:38:05.472390Z",
     "start_time": "2020-03-10T08:38:05.307744Z"
    }
   },
   "outputs": [],
   "source": [
    "cnt_vectorizer = CountVectorizer(stop_words=stop_words)\n",
    "X = cnt_vectorizer.fit_transform(all_texts)"
   ]
  },
  {
   "cell_type": "code",
   "execution_count": 32,
   "metadata": {
    "ExecuteTime": {
     "end_time": "2020-03-10T08:38:06.129865Z",
     "start_time": "2020-03-10T08:38:06.126373Z"
    }
   },
   "outputs": [],
   "source": [
    "from sklearn.preprocessing import LabelEncoder"
   ]
  },
  {
   "cell_type": "code",
   "execution_count": 33,
   "metadata": {
    "ExecuteTime": {
     "end_time": "2020-03-10T08:38:06.337067Z",
     "start_time": "2020-03-10T08:38:06.333505Z"
    }
   },
   "outputs": [],
   "source": [
    "label_encoder = LabelEncoder()\n",
    "y = label_encoder.fit_transform(labels)"
   ]
  },
  {
   "cell_type": "code",
   "execution_count": 34,
   "metadata": {
    "ExecuteTime": {
     "end_time": "2020-03-10T08:38:07.093527Z",
     "start_time": "2020-03-10T08:38:07.086628Z"
    }
   },
   "outputs": [
    {
     "data": {
      "text/plain": [
       "array([1, 1, 1, ..., 0, 0, 0])"
      ]
     },
     "execution_count": 34,
     "metadata": {},
     "output_type": "execute_result"
    }
   ],
   "source": [
    "y"
   ]
  },
  {
   "cell_type": "code",
   "execution_count": 35,
   "metadata": {
    "ExecuteTime": {
     "end_time": "2020-03-10T08:38:07.679272Z",
     "start_time": "2020-03-10T08:38:07.675588Z"
    }
   },
   "outputs": [],
   "source": [
    "from sklearn.model_selection import train_test_split"
   ]
  },
  {
   "cell_type": "code",
   "execution_count": 81,
   "metadata": {
    "ExecuteTime": {
     "end_time": "2020-03-10T08:39:52.208829Z",
     "start_time": "2020-03-10T08:39:52.203031Z"
    }
   },
   "outputs": [],
   "source": [
    "X_train, X_test, y_train, y_test = train_test_split(X, y, test_size=0.3)"
   ]
  },
  {
   "cell_type": "code",
   "execution_count": 82,
   "metadata": {
    "ExecuteTime": {
     "end_time": "2020-03-10T08:39:52.629201Z",
     "start_time": "2020-03-10T08:39:52.625780Z"
    }
   },
   "outputs": [],
   "source": [
    "model = LogisticRegression(C=0.1, max_iter=200)"
   ]
  },
  {
   "cell_type": "code",
   "execution_count": 83,
   "metadata": {
    "ExecuteTime": {
     "end_time": "2020-03-10T08:39:53.005064Z",
     "start_time": "2020-03-10T08:39:52.915261Z"
    }
   },
   "outputs": [
    {
     "data": {
      "text/plain": [
       "LogisticRegression(C=0.1, class_weight=None, dual=False, fit_intercept=True,\n",
       "                   intercept_scaling=1, l1_ratio=None, max_iter=200,\n",
       "                   multi_class='auto', n_jobs=None, penalty='l2',\n",
       "                   random_state=None, solver='lbfgs', tol=0.0001, verbose=0,\n",
       "                   warm_start=False)"
      ]
     },
     "execution_count": 83,
     "metadata": {},
     "output_type": "execute_result"
    }
   ],
   "source": [
    "model.fit(X_train, y_train)"
   ]
  },
  {
   "cell_type": "code",
   "execution_count": 84,
   "metadata": {
    "ExecuteTime": {
     "end_time": "2020-03-10T08:39:53.107348Z",
     "start_time": "2020-03-10T08:39:53.101457Z"
    }
   },
   "outputs": [
    {
     "data": {
      "text/plain": [
       "0.79"
      ]
     },
     "execution_count": 84,
     "metadata": {},
     "output_type": "execute_result"
    }
   ],
   "source": [
    "model.score(X_test, y_test)"
   ]
  },
  {
   "cell_type": "code",
   "execution_count": 85,
   "metadata": {
    "ExecuteTime": {
     "end_time": "2020-03-10T08:39:53.529496Z",
     "start_time": "2020-03-10T08:39:53.522309Z"
    }
   },
   "outputs": [
    {
     "data": {
      "text/plain": [
       "0.9635714285714285"
      ]
     },
     "execution_count": 85,
     "metadata": {},
     "output_type": "execute_result"
    }
   ],
   "source": [
    "model.score(X_train, y_train)"
   ]
  },
  {
   "cell_type": "code",
   "execution_count": 86,
   "metadata": {
    "ExecuteTime": {
     "end_time": "2020-03-10T08:39:58.059849Z",
     "start_time": "2020-03-10T08:39:58.055833Z"
    }
   },
   "outputs": [],
   "source": [
    "from sklearn.metrics import classification_report"
   ]
  },
  {
   "cell_type": "code",
   "execution_count": 87,
   "metadata": {
    "ExecuteTime": {
     "end_time": "2020-03-10T08:39:58.312216Z",
     "start_time": "2020-03-10T08:39:58.308431Z"
    }
   },
   "outputs": [],
   "source": [
    "y_hat = model.predict(X)"
   ]
  },
  {
   "cell_type": "code",
   "execution_count": 88,
   "metadata": {
    "ExecuteTime": {
     "end_time": "2020-03-10T08:39:58.571403Z",
     "start_time": "2020-03-10T08:39:58.559243Z"
    }
   },
   "outputs": [
    {
     "name": "stdout",
     "output_type": "stream",
     "text": [
      "              precision    recall  f1-score   support\n",
      "\n",
      "           0       0.93      0.90      0.91      1000\n",
      "           1       0.90      0.93      0.91      1000\n",
      "\n",
      "    accuracy                           0.91      2000\n",
      "   macro avg       0.91      0.91      0.91      2000\n",
      "weighted avg       0.91      0.91      0.91      2000\n",
      "\n"
     ]
    }
   ],
   "source": [
    "print(classification_report(y, y_hat))"
   ]
  },
  {
   "cell_type": "code",
   "execution_count": null,
   "metadata": {},
   "outputs": [],
   "source": []
  }
 ],
 "metadata": {
  "kernelspec": {
   "display_name": "Python 3",
   "language": "python",
   "name": "python3"
  },
  "language_info": {
   "codemirror_mode": {
    "name": "ipython",
    "version": 3
   },
   "file_extension": ".py",
   "mimetype": "text/x-python",
   "name": "python",
   "nbconvert_exporter": "python",
   "pygments_lexer": "ipython3",
   "version": "3.6.8"
  },
  "toc": {
   "nav_menu": {},
   "number_sections": true,
   "sideBar": true,
   "skip_h1_title": false,
   "toc_cell": false,
   "toc_position": {},
   "toc_section_display": "block",
   "toc_window_display": false
  }
 },
 "nbformat": 4,
 "nbformat_minor": 4
}
