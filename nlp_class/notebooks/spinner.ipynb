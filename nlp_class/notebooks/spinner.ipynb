{
 "cells": [
  {
   "cell_type": "code",
   "execution_count": 1,
   "metadata": {
    "ExecuteTime": {
     "end_time": "2020-03-15T15:49:10.199963Z",
     "start_time": "2020-03-15T15:49:10.194898Z"
    }
   },
   "outputs": [],
   "source": [
    "from bs4 import BeautifulSoup"
   ]
  },
  {
   "cell_type": "code",
   "execution_count": 3,
   "metadata": {
    "ExecuteTime": {
     "end_time": "2020-03-15T15:50:31.018640Z",
     "start_time": "2020-03-15T15:50:30.471787Z"
    }
   },
   "outputs": [],
   "source": [
    "with open('../electronics/positive.review', 'r') as fid:\n",
    "    raw_content = fid.read()\n",
    "reviews = BeautifulSoup(raw_content).find_all('review_text')"
   ]
  },
  {
   "cell_type": "code",
   "execution_count": 6,
   "metadata": {
    "ExecuteTime": {
     "end_time": "2020-03-15T15:51:23.328628Z",
     "start_time": "2020-03-15T15:51:23.264071Z"
    }
   },
   "outputs": [
    {
     "data": {
      "text/plain": [
       "'I purchased this unit due to frequent blackouts in my area and 2 power supplies going bad.  It will run my cable modem, router, PC, and LCD monitor for 5 minutes.  This is more than enough time to save work and shut down.   Equally important, I know that my electronics are receiving clean power.I feel that this investment is minor compared to the loss of valuable data or the failure of equipment due to a power spike or an irregular power supply.As always, Amazon had it to me in <2 business days'"
      ]
     },
     "execution_count": 6,
     "metadata": {},
     "output_type": "execute_result"
    }
   ],
   "source": [
    "reviews[0].text.replace('\\n', '')"
   ]
  },
  {
   "cell_type": "code",
   "execution_count": 13,
   "metadata": {
    "ExecuteTime": {
     "end_time": "2020-03-15T15:54:47.098948Z",
     "start_time": "2020-03-15T15:54:47.087916Z"
    }
   },
   "outputs": [],
   "source": [
    "review_contents = [\n",
    "    review.text.replace('\\n', '').lower() for review in reviews\n",
    "]"
   ]
  },
  {
   "cell_type": "code",
   "execution_count": 14,
   "metadata": {
    "ExecuteTime": {
     "end_time": "2020-03-15T15:54:47.883547Z",
     "start_time": "2020-03-15T15:54:47.862851Z"
    }
   },
   "outputs": [
    {
     "data": {
      "text/plain": [
       "'i purchased this unit due to frequent blackouts in my area and 2 power supplies going bad.  it will run my cable modem, router, pc, and lcd monitor for 5 minutes.  this is more than enough time to save work and shut down.   equally important, i know that my electronics are receiving clean power.i feel that this investment is minor compared to the loss of valuable data or the failure of equipment due to a power spike or an irregular power supply.as always, amazon had it to me in <2 business days'"
      ]
     },
     "execution_count": 14,
     "metadata": {},
     "output_type": "execute_result"
    }
   ],
   "source": [
    "review_contents[0]"
   ]
  },
  {
   "cell_type": "code",
   "execution_count": 15,
   "metadata": {
    "ExecuteTime": {
     "end_time": "2020-03-15T15:54:50.120627Z",
     "start_time": "2020-03-15T15:54:50.116702Z"
    }
   },
   "outputs": [],
   "source": [
    "from collections import defaultdict, Counter"
   ]
  },
  {
   "cell_type": "code",
   "execution_count": 17,
   "metadata": {
    "ExecuteTime": {
     "end_time": "2020-03-15T15:54:50.975236Z",
     "start_time": "2020-03-15T15:54:50.972236Z"
    }
   },
   "outputs": [],
   "source": [
    "import nltk"
   ]
  },
  {
   "cell_type": "code",
   "execution_count": 18,
   "metadata": {
    "ExecuteTime": {
     "end_time": "2020-03-15T15:54:51.721694Z",
     "start_time": "2020-03-15T15:54:51.717440Z"
    }
   },
   "outputs": [],
   "source": [
    "wn = nltk.stem.WordNetLemmatizer()"
   ]
  },
  {
   "cell_type": "code",
   "execution_count": 39,
   "metadata": {
    "ExecuteTime": {
     "end_time": "2020-03-15T16:06:48.040875Z",
     "start_time": "2020-03-15T16:06:46.433888Z"
    }
   },
   "outputs": [],
   "source": [
    "words_dist = defaultdict(Counter)\n",
    "for content in review_contents:\n",
    "    tokens = list(map(wn.lemmatize, nltk.tokenize.word_tokenize(content)))\n",
    "    for i in range(1, len(tokens)-1):\n",
    "        prev_token = tokens[i-1]\n",
    "        this_token = tokens[i]\n",
    "        next_token = tokens[i+1]\n",
    "        words_dist[(prev_token, next_token)][this_token] += 1"
   ]
  },
  {
   "cell_type": "code",
   "execution_count": 40,
   "metadata": {
    "ExecuteTime": {
     "end_time": "2020-03-15T16:06:49.367227Z",
     "start_time": "2020-03-15T16:06:49.319350Z"
    }
   },
   "outputs": [],
   "source": [
    "words_dist = {k: dict(v) for k, v in words_dist.items()}"
   ]
  },
  {
   "cell_type": "code",
   "execution_count": 41,
   "metadata": {
    "ExecuteTime": {
     "end_time": "2020-03-15T16:06:51.508875Z",
     "start_time": "2020-03-15T16:06:51.504678Z"
    }
   },
   "outputs": [],
   "source": [
    "from random import random"
   ]
  },
  {
   "cell_type": "code",
   "execution_count": 42,
   "metadata": {
    "ExecuteTime": {
     "end_time": "2020-03-15T16:06:53.027781Z",
     "start_time": "2020-03-15T16:06:53.022851Z"
    }
   },
   "outputs": [],
   "source": [
    "def sample_with_weights(dist):\n",
    "    total = sum(dist.values())\n",
    "    anchor = random()\n",
    "    acc = 0\n",
    "    for k, v in dist.items():\n",
    "        acc += v/total\n",
    "        if acc >= anchor:\n",
    "            return k"
   ]
  },
  {
   "cell_type": "code",
   "execution_count": 53,
   "metadata": {
    "ExecuteTime": {
     "end_time": "2020-03-15T16:12:11.932239Z",
     "start_time": "2020-03-15T16:12:11.924974Z"
    }
   },
   "outputs": [],
   "source": [
    "def spinner(text):\n",
    "    tokens = nltk.tokenize.word_tokenize(text.lower())\n",
    "    new_tokens = [tokens[0]]\n",
    "    for i in range(1, len(tokens)-1):\n",
    "        if random() < 0.2:\n",
    "            prev_token = tokens[i-1]\n",
    "            next_token = tokens[i+1]\n",
    "            this_token = tokens[i]\n",
    "            dist = words_dist.get((prev_token, next_token), {this_token: 1})\n",
    "            new_token = sample_with_weights(dist)\n",
    "        else:\n",
    "            new_token = tokens[i]\n",
    "        new_tokens.append(new_token)\n",
    "    new_tokens.append(tokens[-1])\n",
    "    return (\n",
    "        ' '.join(new_tokens)\n",
    "        .replace(\" .\", \".\")\n",
    "        .replace(\" '\", \"'\")\n",
    "        .replace(\" ,\", \",\")\n",
    "        .replace(\"$ \", \"$\")\n",
    "        .replace(\" !\", \"!\")\n",
    "#         .replace('  ', ' ')\n",
    "    )"
   ]
  },
  {
   "cell_type": "code",
   "execution_count": 56,
   "metadata": {
    "ExecuteTime": {
     "end_time": "2020-03-15T16:12:45.984844Z",
     "start_time": "2020-03-15T16:12:45.977908Z"
    }
   },
   "outputs": [
    {
     "data": {
      "text/plain": [
       "\"i am very impressed with this product. it folds super easy, so traveling with it easy a sub-woofer! pretty good sound - not bose quality, but for the price, very respectable! i've had it is a year, then it has been along on many weekend get-aways, and works great. i use it in, so it was a good value for me\""
      ]
     },
     "execution_count": 56,
     "metadata": {},
     "output_type": "execute_result"
    }
   ],
   "source": [
    "spinner(review_contents[10])"
   ]
  },
  {
   "cell_type": "code",
   "execution_count": 57,
   "metadata": {
    "ExecuteTime": {
     "end_time": "2020-03-15T16:12:47.888170Z",
     "start_time": "2020-03-15T16:12:47.882520Z"
    }
   },
   "outputs": [
    {
     "data": {
      "text/plain": [
       "\"i am very happy with this product. it folds super slim, so traveling with it is a breeze! pretty good sound - not bose quality, but for the price, very respectable! i've had it almost a year, and it has been along on many weekend get-aways, and works great. i use it alot, so it was a good purchase for me\""
      ]
     },
     "execution_count": 57,
     "metadata": {},
     "output_type": "execute_result"
    }
   ],
   "source": [
    "review_contents[10]"
   ]
  },
  {
   "cell_type": "code",
   "execution_count": null,
   "metadata": {},
   "outputs": [],
   "source": []
  }
 ],
 "metadata": {
  "kernelspec": {
   "display_name": "Python 3",
   "language": "python",
   "name": "python3"
  },
  "language_info": {
   "codemirror_mode": {
    "name": "ipython",
    "version": 3
   },
   "file_extension": ".py",
   "mimetype": "text/x-python",
   "name": "python",
   "nbconvert_exporter": "python",
   "pygments_lexer": "ipython3",
   "version": "3.6.8"
  },
  "toc": {
   "nav_menu": {},
   "number_sections": true,
   "sideBar": true,
   "skip_h1_title": false,
   "toc_cell": false,
   "toc_position": {},
   "toc_section_display": "block",
   "toc_window_display": false
  }
 },
 "nbformat": 4,
 "nbformat_minor": 4
}
