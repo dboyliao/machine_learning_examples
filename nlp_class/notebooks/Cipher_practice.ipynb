{
 "cells": [
  {
   "cell_type": "code",
   "execution_count": 1,
   "metadata": {
    "ExecuteTime": {
     "end_time": "2020-03-08T06:27:40.894827Z",
     "start_time": "2020-03-08T06:27:40.889318Z"
    }
   },
   "outputs": [],
   "source": [
    "from cipher_placeholder import original_message"
   ]
  },
  {
   "cell_type": "code",
   "execution_count": 2,
   "metadata": {
    "ExecuteTime": {
     "end_time": "2020-03-08T06:27:41.111471Z",
     "start_time": "2020-03-08T06:27:41.107836Z"
    }
   },
   "outputs": [],
   "source": [
    "from string import ascii_lowercase"
   ]
  },
  {
   "cell_type": "code",
   "execution_count": 3,
   "metadata": {
    "ExecuteTime": {
     "end_time": "2020-03-08T06:27:41.307936Z",
     "start_time": "2020-03-08T06:27:41.305110Z"
    }
   },
   "outputs": [],
   "source": [
    "from random import sample"
   ]
  },
  {
   "cell_type": "code",
   "execution_count": 4,
   "metadata": {
    "ExecuteTime": {
     "end_time": "2020-03-08T06:27:41.486098Z",
     "start_time": "2020-03-08T06:27:41.482870Z"
    }
   },
   "outputs": [],
   "source": [
    "from copy import deepcopy"
   ]
  },
  {
   "cell_type": "code",
   "execution_count": 5,
   "metadata": {
    "ExecuteTime": {
     "end_time": "2020-03-08T06:27:41.686171Z",
     "start_time": "2020-03-08T06:27:41.675670Z"
    }
   },
   "outputs": [],
   "source": [
    "class CharMapper(object):\n",
    "    \n",
    "    def __init__(self, char_map=None):\n",
    "        if char_map is None:\n",
    "            self._char_map = {}\n",
    "            for k, v in zip(sample(ascii_lowercase, 26), ascii_lowercase):\n",
    "                self._char_map[k] = v\n",
    "        else:\n",
    "            self._char_map = deepcopy(char_map)\n",
    "        self._char_map['.'] = '.'\n",
    "        self._char_map[','] = ','\n",
    "    \n",
    "    def __call__(self, msg):\n",
    "        cipher = ''.join(\n",
    "            self._char_map.get(c, ' ')\n",
    "            for c in msg.strip().lower()\n",
    "        )\n",
    "        return cipher\n",
    "    \n",
    "    def __deepcopy__(self, memo):\n",
    "        cls = type(self)\n",
    "        return cls(self._char_map)\n",
    "    \n",
    "    @property\n",
    "    def char_map(self):\n",
    "        return self._char_map\n",
    "    \n",
    "    def mutate(self):\n",
    "        char1, char2 = sample(ascii_lowercase, 2)\n",
    "        v1 = self._char_map[char1]\n",
    "        v2 = self._char_map[char2]\n",
    "        new_char_map = deepcopy(self.char_map)\n",
    "        new_char_map[char1] = v2\n",
    "        new_char_map[char2] = v1\n",
    "        return type(self)(new_char_map)"
   ]
  },
  {
   "cell_type": "code",
   "execution_count": 6,
   "metadata": {
    "ExecuteTime": {
     "end_time": "2020-03-08T06:27:41.876333Z",
     "start_time": "2020-03-08T06:27:41.872834Z"
    }
   },
   "outputs": [],
   "source": [
    "cipher = CharMapper()"
   ]
  },
  {
   "cell_type": "code",
   "execution_count": 7,
   "metadata": {
    "ExecuteTime": {
     "end_time": "2020-03-08T06:27:42.360645Z",
     "start_time": "2020-03-08T06:27:42.349619Z"
    }
   },
   "outputs": [
    {
     "data": {
      "text/plain": [
       "'I then lounged down the street and found,\\nas I expected, that there was a mews in a lane which runs down\\nby one wall of the garden. I lent the ostlers a hand in rubbing\\ndown their horses, and received in exchange twopence, a glass of\\nhalf-and-half, two fills of shag tobacco, and as much information\\nas I could desire about Miss Adler, to say nothing of half a dozen\\nother people in the neighbourhood in whom I was not in the least\\ninterested, but whose biographies I was compelled to listen to.\\n'"
      ]
     },
     "execution_count": 7,
     "metadata": {},
     "output_type": "execute_result"
    }
   ],
   "source": [
    "original_message"
   ]
  },
  {
   "cell_type": "code",
   "execution_count": 8,
   "metadata": {
    "ExecuteTime": {
     "end_time": "2020-03-08T06:27:42.928112Z",
     "start_time": "2020-03-08T06:27:42.921760Z"
    }
   },
   "outputs": [
    {
     "data": {
      "text/plain": [
       "'k ljnm cysmdnu uygm ljn tlpnnl wmu xysmu, wt k neonhlnu, ljwl ljnpn gwt w ingt km w cwmn gjkhj psmt uygm fq ymn gwcc yx ljn dwpunm. k cnml ljn ytlcnpt w jwmu km psffkmd uygm ljnkp jyptnt, wmu pnhnkbnu km nehjwmdn lgyonmhn, w dcwtt yx jwcx wmu jwcx, lgy xkcct yx tjwd lyfwhhy, wmu wt ishj kmxypiwlkym wt k hyscu untkpn wfysl iktt wucnp, ly twq myljkmd yx jwcx w uyvnm yljnp onyocn km ljn mnkdjfyspjyyu km gjyi k gwt myl km ljn cnwtl kmlnpntlnu, fsl gjytn fkydpwojknt k gwt hyionccnu ly cktlnm ly.'"
      ]
     },
     "execution_count": 8,
     "metadata": {},
     "output_type": "execute_result"
    }
   ],
   "source": [
    "encrypted_message = cipher(original_message)\n",
    "encrypted_message"
   ]
  },
  {
   "cell_type": "code",
   "execution_count": 9,
   "metadata": {
    "ExecuteTime": {
     "end_time": "2020-03-08T06:27:43.527862Z",
     "start_time": "2020-03-08T06:27:43.453199Z"
    }
   },
   "outputs": [],
   "source": [
    "import requests\n",
    "import os"
   ]
  },
  {
   "cell_type": "code",
   "execution_count": 10,
   "metadata": {
    "ExecuteTime": {
     "end_time": "2020-03-08T06:27:44.241823Z",
     "start_time": "2020-03-08T06:27:44.237552Z"
    }
   },
   "outputs": [],
   "source": [
    "if not os.path.exists('moby_dict.txt'):\n",
    "    res = requests.get('https://lazyprogrammer.me/course_files/moby_dick.txt')\n",
    "    with open('moby_dict.txt', 'w', encoding='utf8') as fid:\n",
    "        fid.write(res.content.decode('utf8'))"
   ]
  },
  {
   "cell_type": "code",
   "execution_count": 11,
   "metadata": {
    "ExecuteTime": {
     "end_time": "2020-03-08T06:27:44.675806Z",
     "start_time": "2020-03-08T06:27:44.656436Z"
    }
   },
   "outputs": [],
   "source": [
    "with open('moby_dict.txt', 'r') as fid:\n",
    "    content = fid.read().lower()"
   ]
  },
  {
   "cell_type": "code",
   "execution_count": 12,
   "metadata": {
    "ExecuteTime": {
     "end_time": "2020-03-08T06:27:45.117566Z",
     "start_time": "2020-03-08T06:27:45.114214Z"
    }
   },
   "outputs": [],
   "source": [
    "from collections import Counter"
   ]
  },
  {
   "cell_type": "code",
   "execution_count": 13,
   "metadata": {
    "ExecuteTime": {
     "end_time": "2020-03-08T06:27:45.581547Z",
     "start_time": "2020-03-08T06:27:45.578218Z"
    }
   },
   "outputs": [],
   "source": [
    "valid_chars = set(ascii_lowercase)"
   ]
  },
  {
   "cell_type": "code",
   "execution_count": 31,
   "metadata": {
    "ExecuteTime": {
     "end_time": "2020-03-08T06:28:31.488311Z",
     "start_time": "2020-03-08T06:28:29.807757Z"
    }
   },
   "outputs": [],
   "source": [
    "unigram_cnter = Counter()\n",
    "bigram_cnter = Counter()\n",
    "for i in range(len(content)):\n",
    "    c = content[i]\n",
    "    if c not in valid_chars:\n",
    "        continue\n",
    "    unigram_cnter[c] += 1\n",
    "    bigram = ''.join(filter(lambda c: c in valid_chars, content[i:i+2]))\n",
    "    if len(bigram) == 2:\n",
    "        bigram_cnter[bigram] += 1\n",
    "total_support = sum(unigram_cnter.values())"
   ]
  },
  {
   "cell_type": "code",
   "execution_count": 32,
   "metadata": {
    "ExecuteTime": {
     "end_time": "2020-03-08T06:28:32.074347Z",
     "start_time": "2020-03-08T06:28:32.070767Z"
    }
   },
   "outputs": [],
   "source": [
    "from math import log"
   ]
  },
  {
   "cell_type": "code",
   "execution_count": 33,
   "metadata": {
    "ExecuteTime": {
     "end_time": "2020-03-08T06:28:32.864859Z",
     "start_time": "2020-03-08T06:28:32.859804Z"
    }
   },
   "outputs": [],
   "source": [
    "def compute_likelihood(decrypted_message):\n",
    "    msg = decrypted_message.replace(' ', '')\n",
    "    log_likelihood = 0\n",
    "    for i in range(0, len(msg)-2):\n",
    "        cnt_bigram = bigram_cnter[msg[i:i+2]]\n",
    "        cnt_unigram = unigram_cnter[msg[i]]\n",
    "        prob = (1 + cnt_bigram) / (cnt_unigram + 26)\n",
    "        log_likelihood += log(prob)\n",
    "    return log_likelihood"
   ]
  },
  {
   "cell_type": "code",
   "execution_count": 34,
   "metadata": {
    "ExecuteTime": {
     "end_time": "2020-03-08T06:28:34.542777Z",
     "start_time": "2020-03-08T06:28:34.539214Z"
    }
   },
   "outputs": [],
   "source": [
    "from itertools import chain"
   ]
  },
  {
   "cell_type": "code",
   "execution_count": 35,
   "metadata": {
    "ExecuteTime": {
     "end_time": "2020-03-08T06:28:35.053045Z",
     "start_time": "2020-03-08T06:28:35.047160Z"
    }
   },
   "outputs": [],
   "source": [
    "def create_offspring(deciphers, num_offspring):\n",
    "    return chain(\n",
    "        *[[decipher.mutate() for _ in range(num_offspring)] for decipher in deciphers],\n",
    "        deciphers,\n",
    "    )"
   ]
  },
  {
   "cell_type": "code",
   "execution_count": 49,
   "metadata": {
    "ExecuteTime": {
     "end_time": "2020-03-08T06:32:30.507754Z",
     "start_time": "2020-03-08T06:32:30.504240Z"
    }
   },
   "outputs": [],
   "source": [
    "num_epoches = 1000"
   ]
  },
  {
   "cell_type": "code",
   "execution_count": 71,
   "metadata": {
    "ExecuteTime": {
     "end_time": "2020-03-08T06:40:52.186900Z",
     "start_time": "2020-03-08T06:40:52.183534Z"
    }
   },
   "outputs": [],
   "source": [
    "from random import seed"
   ]
  },
  {
   "cell_type": "code",
   "execution_count": 72,
   "metadata": {
    "ExecuteTime": {
     "end_time": "2020-03-08T06:40:56.407070Z",
     "start_time": "2020-03-08T06:40:56.403438Z"
    }
   },
   "outputs": [],
   "source": [
    "seed(1234)"
   ]
  },
  {
   "cell_type": "code",
   "execution_count": 73,
   "metadata": {
    "ExecuteTime": {
     "end_time": "2020-03-08T06:41:19.880940Z",
     "start_time": "2020-03-08T06:40:56.773959Z"
    }
   },
   "outputs": [
    {
     "name": "stdout",
     "output_type": "stream",
     "text": [
      "-1254.8969681016429\n",
      "-1230.370004376716\n",
      "-1230.370004376716\n",
      "-1230.370004376716\n",
      "-1230.370004376716\n",
      "-1230.370004376716\n",
      "-1230.370004376716\n",
      "-1230.370004376716\n",
      "-1230.370004376716\n",
      "-1230.370004376716\n"
     ]
    }
   ],
   "source": [
    "decipers = [CharMapper() for _ in range(60)]\n",
    "for i in range(1, num_epoches+1):\n",
    "    if i > 1:\n",
    "        decipers = create_offspring(decipers, 3)\n",
    "    pairs = [\n",
    "        (compute_likelihood(decipher(encrypted_message)), decipher)\n",
    "        for decipher in decipers\n",
    "    ]\n",
    "    pairs = sorted(pairs, key=lambda p: p[0], reverse=True)\n",
    "    if i % 100 == 0:\n",
    "        print(pairs[0][0])\n",
    "    decipers = [p[1] for p in pairs[:15]]"
   ]
  },
  {
   "cell_type": "code",
   "execution_count": 74,
   "metadata": {
    "ExecuteTime": {
     "end_time": "2020-03-08T06:41:21.537399Z",
     "start_time": "2020-03-08T06:41:21.533103Z"
    }
   },
   "outputs": [],
   "source": [
    "best_decipher = decipers[0]"
   ]
  },
  {
   "cell_type": "code",
   "execution_count": 75,
   "metadata": {
    "ExecuteTime": {
     "end_time": "2020-03-08T06:41:22.004242Z",
     "start_time": "2020-03-08T06:41:21.996788Z"
    }
   },
   "outputs": [
    {
     "data": {
      "text/plain": [
       "'k ljnm cysmdnu uygm ljn tlpnnl wmu xysmu, wt k neonhlnu, ljwl ljnpn gwt w ingt km w cwmn gjkhj psmt uygm fq ymn gwcc yx ljn dwpunm. k cnml ljn ytlcnpt w jwmu km psffkmd uygm ljnkp jyptnt, wmu pnhnkbnu km nehjwmdn lgyonmhn, w dcwtt yx jwcx wmu jwcx, lgy xkcct yx tjwd lyfwhhy, wmu wt ishj kmxypiwlkym wt k hyscu untkpn wfysl iktt wucnp, ly twq myljkmd yx jwcx w uyvnm yljnp onyocn km ljn mnkdjfyspjyyu km gjyi k gwt myl km ljn cnwtl kmlnpntlnu, fsl gjytn fkydpwojknt k gwt hyionccnu ly cktlnm ly.'"
      ]
     },
     "execution_count": 75,
     "metadata": {},
     "output_type": "execute_result"
    }
   ],
   "source": [
    "encrypted_message"
   ]
  },
  {
   "cell_type": "code",
   "execution_count": 76,
   "metadata": {
    "ExecuteTime": {
     "end_time": "2020-03-08T06:41:22.916799Z",
     "start_time": "2020-03-08T06:41:22.906366Z"
    }
   },
   "outputs": [
    {
     "data": {
      "text/plain": [
       "'i then lounged down the street and found, as i expected, that there was a mews in a lane which runs down by one wall of the garden. i lent the ostlers a hand in rubbing down their horses, and received in exchange twopence, a glass of half and half, two fills of shag tobacco, and as much information as i could desire about miss adler, to say nothing of half a doken other people in the neighbourhood in whom i was not in the least interested, but whose biographies i was compelled to listen to.'"
      ]
     },
     "execution_count": 76,
     "metadata": {},
     "output_type": "execute_result"
    }
   ],
   "source": [
    "best_decipher(encrypted_message)"
   ]
  },
  {
   "cell_type": "code",
   "execution_count": 77,
   "metadata": {
    "ExecuteTime": {
     "end_time": "2020-03-08T06:41:25.917129Z",
     "start_time": "2020-03-08T06:41:25.911503Z"
    }
   },
   "outputs": [
    {
     "data": {
      "text/plain": [
       "'i then lounged down the street and found, as i expected, that there was a mews in a lane which runs down by one wall of the garden. i lent the ostlers a hand in rubbing down their horses, and received in exchange twopence, a glass of half and half, two fills of shag tobacco, and as much information as i could desire about miss adler, to say nothing of half a dozen other people in the neighbourhood in whom i was not in the least interested, but whose biographies i was compelled to listen to.'"
      ]
     },
     "execution_count": 77,
     "metadata": {},
     "output_type": "execute_result"
    }
   ],
   "source": [
    "original_message.lower().replace('\\n', ' ').replace('-', ' ').strip()"
   ]
  },
  {
   "cell_type": "code",
   "execution_count": 78,
   "metadata": {
    "ExecuteTime": {
     "end_time": "2020-03-08T06:41:27.841228Z",
     "start_time": "2020-03-08T06:41:27.833365Z"
    }
   },
   "outputs": [
    {
     "data": {
      "text/plain": [
       "'I then lounged down the street and found,\\nas I expected, that there was a mews in a lane which runs down\\nby one wall of the garden. I lent the ostlers a hand in rubbing\\ndown their horses, and received in exchange twopence, a glass of\\nhalf-and-half, two fills of shag tobacco, and as much information\\nas I could desire about Miss Adler, to say nothing of half a dozen\\nother people in the neighbourhood in whom I was not in the least\\ninterested, but whose biographies I was compelled to listen to.\\n'"
      ]
     },
     "execution_count": 78,
     "metadata": {},
     "output_type": "execute_result"
    }
   ],
   "source": [
    "original_message"
   ]
  },
  {
   "cell_type": "code",
   "execution_count": null,
   "metadata": {},
   "outputs": [],
   "source": []
  }
 ],
 "metadata": {
  "kernelspec": {
   "display_name": "Python 3",
   "language": "python",
   "name": "python3"
  },
  "language_info": {
   "codemirror_mode": {
    "name": "ipython",
    "version": 3
   },
   "file_extension": ".py",
   "mimetype": "text/x-python",
   "name": "python",
   "nbconvert_exporter": "python",
   "pygments_lexer": "ipython3",
   "version": "3.6.8"
  },
  "toc": {
   "nav_menu": {},
   "number_sections": true,
   "sideBar": true,
   "skip_h1_title": false,
   "toc_cell": false,
   "toc_position": {},
   "toc_section_display": "block",
   "toc_window_display": false
  }
 },
 "nbformat": 4,
 "nbformat_minor": 4
}
