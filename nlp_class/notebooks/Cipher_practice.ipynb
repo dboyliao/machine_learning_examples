{
 "cells": [
  {
   "cell_type": "code",
   "execution_count": 1,
   "metadata": {},
   "outputs": [],
   "source": [
    "import sys"
   ]
  },
  {
   "cell_type": "code",
   "execution_count": 2,
   "metadata": {},
   "outputs": [],
   "source": [
    "sys.path.append('..')"
   ]
  },
  {
   "cell_type": "code",
   "execution_count": 3,
   "metadata": {},
   "outputs": [],
   "source": [
    "from cipher_placeholder import original_message"
   ]
  },
  {
   "cell_type": "code",
   "execution_count": 4,
   "metadata": {},
   "outputs": [],
   "source": [
    "from string import ascii_lowercase"
   ]
  },
  {
   "cell_type": "code",
   "execution_count": 5,
   "metadata": {},
   "outputs": [],
   "source": [
    "from random import sample"
   ]
  },
  {
   "cell_type": "code",
   "execution_count": 6,
   "metadata": {},
   "outputs": [],
   "source": [
    "from copy import deepcopy"
   ]
  },
  {
   "cell_type": "code",
   "execution_count": 7,
   "metadata": {},
   "outputs": [],
   "source": [
    "class CharMapper(object):\n",
    "    \n",
    "    def __init__(self, char_map=None):\n",
    "        if char_map is None:\n",
    "            self._char_map = {}\n",
    "            for k, v in zip(sample(ascii_lowercase, 26), ascii_lowercase):\n",
    "                self._char_map[k] = v\n",
    "        else:\n",
    "            self._char_map = deepcopy(char_map)\n",
    "        self._char_map['.'] = '.'\n",
    "        self._char_map[','] = ','\n",
    "    \n",
    "    def __call__(self, msg):\n",
    "        cipher = ''.join(\n",
    "            self._char_map.get(c, ' ')\n",
    "            for c in msg.strip().lower()\n",
    "        )\n",
    "        return cipher\n",
    "    \n",
    "    def __deepcopy__(self, memo):\n",
    "        cls = type(self)\n",
    "        return cls(self._char_map)\n",
    "    \n",
    "    @property\n",
    "    def char_map(self):\n",
    "        return self._char_map\n",
    "    \n",
    "    def mutate(self):\n",
    "        char1, char2 = sample(ascii_lowercase, 2)\n",
    "        v1 = self._char_map[char1]\n",
    "        v2 = self._char_map[char2]\n",
    "        new_char_map = deepcopy(self.char_map)\n",
    "        new_char_map[char1] = v2\n",
    "        new_char_map[char2] = v1\n",
    "        return type(self)(new_char_map)"
   ]
  },
  {
   "cell_type": "code",
   "execution_count": 8,
   "metadata": {},
   "outputs": [],
   "source": [
    "cipher = CharMapper()"
   ]
  },
  {
   "cell_type": "code",
   "execution_count": 9,
   "metadata": {},
   "outputs": [
    {
     "data": {
      "text/plain": "'I then lounged down the street and found,\\nas I expected, that there was a mews in a lane which runs down\\nby one wall of the garden. I lent the ostlers a hand in rubbing\\ndown their horses, and received in exchange twopence, a glass of\\nhalf-and-half, two fills of shag tobacco, and as much information\\nas I could desire about Miss Adler, to say nothing of half a dozen\\nother people in the neighbourhood in whom I was not in the least\\ninterested, but whose biographies I was compelled to listen to.\\n'"
     },
     "execution_count": 9,
     "metadata": {},
     "output_type": "execute_result"
    }
   ],
   "source": [
    "original_message"
   ]
  },
  {
   "cell_type": "code",
   "execution_count": 10,
   "metadata": {},
   "outputs": [
    {
     "data": {
      "text/plain": "'u pces yftsdeh hfvs pce kpjeep bsh lftsh, bk u enzerpeh, pcbp pceje vbk b gevk us b ybse vcurc jtsk hfvs oi fse vbyy fl pce dbjhes. u yesp pce fkpyejk b cbsh us jtoousd hfvs pceuj cfjkek, bsh jereuaeh us enrcbsde pvfzesre, b dybkk fl cbyl bsh cbyl, pvf luyyk fl kcbd pfobrrf, bsh bk gtrc uslfjgbpufs bk u rftyh hekuje boftp gukk bhyej, pf kbi sfpcusd fl cbyl b hfwes fpcej zefzye us pce seudcoftjcffh us vcfg u vbk sfp us pce yebkp uspejekpeh, otp vcfke oufdjbzcuek u vbk rfgzeyyeh pf yukpes pf.'"
     },
     "execution_count": 10,
     "metadata": {},
     "output_type": "execute_result"
    }
   ],
   "source": [
    "encrypted_message = cipher(original_message)\n",
    "encrypted_message"
   ]
  },
  {
   "cell_type": "code",
   "execution_count": 11,
   "metadata": {},
   "outputs": [],
   "source": [
    "import requests\n",
    "import os"
   ]
  },
  {
   "cell_type": "code",
   "execution_count": 12,
   "metadata": {},
   "outputs": [],
   "source": [
    "if not os.path.exists('moby_dict.txt'):\n",
    "    res = requests.get('https://lazyprogrammer.me/course_files/moby_dick.txt')\n",
    "    with open('moby_dict.txt', 'w', encoding='utf8') as fid:\n",
    "        fid.write(res.content.decode('utf8'))"
   ]
  },
  {
   "cell_type": "code",
   "execution_count": 13,
   "metadata": {},
   "outputs": [],
   "source": [
    "with open('moby_dict.txt', 'r') as fid:\n",
    "    content = fid.read().lower()"
   ]
  },
  {
   "cell_type": "code",
   "execution_count": 14,
   "metadata": {},
   "outputs": [],
   "source": [
    "from collections import Counter"
   ]
  },
  {
   "cell_type": "code",
   "execution_count": 15,
   "metadata": {},
   "outputs": [],
   "source": [
    "valid_chars = set(ascii_lowercase)"
   ]
  },
  {
   "cell_type": "code",
   "execution_count": 16,
   "metadata": {},
   "outputs": [],
   "source": [
    "unigram_cnter = Counter()\n",
    "bigram_cnter = Counter()\n",
    "for i in range(len(content)):\n",
    "    c = content[i]\n",
    "    if c not in valid_chars:\n",
    "        continue\n",
    "    unigram_cnter[c] += 1\n",
    "    bigram = ''.join(filter(lambda c: c in valid_chars, content[i:i+2]))\n",
    "    if len(bigram) == 2:\n",
    "        bigram_cnter[bigram] += 1\n",
    "total_support = sum(unigram_cnter.values())"
   ]
  },
  {
   "cell_type": "code",
   "execution_count": 17,
   "metadata": {},
   "outputs": [],
   "source": [
    "from math import log"
   ]
  },
  {
   "cell_type": "code",
   "execution_count": 19,
   "metadata": {},
   "outputs": [],
   "source": [
    "def compute_likelihood(decrypted_message):\n",
    "    msg = decrypted_message.replace(' ', '')\n",
    "    log_likelihood = log((unigram_cnter[msg[0]]+1)/(total_support+26))\n",
    "    for i in range(0, len(msg)-2):\n",
    "        cnt_bigram = bigram_cnter[msg[i:i+2]]\n",
    "        cnt_unigram = unigram_cnter[msg[i]]\n",
    "        prob = (1 + cnt_bigram) / (cnt_unigram + 26)\n",
    "        log_likelihood += log(prob)\n",
    "    return log_likelihood"
   ]
  },
  {
   "cell_type": "code",
   "execution_count": 20,
   "metadata": {},
   "outputs": [],
   "source": [
    "from itertools import chain"
   ]
  },
  {
   "cell_type": "code",
   "execution_count": 21,
   "metadata": {},
   "outputs": [],
   "source": [
    "def create_offspring(deciphers, num_offspring):\n",
    "    return chain(\n",
    "        *[[decipher.mutate() for _ in range(num_offspring)] for decipher in deciphers],\n",
    "        deciphers,\n",
    "    )"
   ]
  },
  {
   "cell_type": "code",
   "execution_count": 22,
   "metadata": {},
   "outputs": [],
   "source": [
    "num_epoches = 1000"
   ]
  },
  {
   "cell_type": "code",
   "execution_count": 23,
   "metadata": {},
   "outputs": [],
   "source": [
    "from random import seed"
   ]
  },
  {
   "cell_type": "code",
   "execution_count": 33,
   "metadata": {},
   "outputs": [],
   "source": [
    "seed(1111)"
   ]
  },
  {
   "cell_type": "code",
   "execution_count": 34,
   "metadata": {},
   "outputs": [
    {
     "name": "stdout",
     "output_type": "stream",
     "text": "-1253.0798709197043\n-1240.6056405427023\n-1240.6056405427023\n-1240.6056405427023\n-1240.6056405427023\n-1240.6056405427023\n-1240.6056405427023\n-1240.6056405427023\n-1240.6056405427023\n-1240.6056405427023\n"
    }
   ],
   "source": [
    "decipers = [CharMapper() for _ in range(60)]\n",
    "scores = []\n",
    "for i in range(1, num_epoches+1):\n",
    "    if i > 1:\n",
    "        decipers = create_offspring(decipers, 3)\n",
    "    pairs = [\n",
    "        (compute_likelihood(decipher(encrypted_message)), decipher)\n",
    "        for decipher in decipers\n",
    "    ]\n",
    "    pairs = sorted(pairs, key=lambda p: p[0], reverse=True)\n",
    "    if i % 100 == 0:\n",
    "        print(pairs[0][0])\n",
    "    decipers = [p[1] for p in pairs[:15]]\n",
    "    scores.append(pairs[0][0])"
   ]
  },
  {
   "cell_type": "code",
   "execution_count": 35,
   "metadata": {},
   "outputs": [],
   "source": [
    "import matplotlib.pyplot as plt"
   ]
  },
  {
   "cell_type": "code",
   "execution_count": 36,
   "metadata": {},
   "outputs": [
    {
     "data": {
      "text/plain": "[<matplotlib.lines.Line2D at 0x11302a128>]"
     },
     "execution_count": 36,
     "metadata": {},
     "output_type": "execute_result"
    },
    {
     "data": {
      "image/png": "[encoded data removed]",
      "image/svg+xml": "<?xml version=\"1.0\" encoding=\"utf-8\" standalone=\"no\"?>\n<!DOCTYPE svg PUBLIC \"-//W3C//DTD SVG 1.1//EN\"\n  \"http://www.w3.org/Graphics/SVG/1.1/DTD/svg11.dtd\">\n<!-- Created with matplotlib (https://matplotlib.org/) -->\n<svg height=\"251.472104pt\" version=\"1.1\" viewBox=\"0 0 390.029687 251.472104\" width=\"390.029687pt\" xmlns=\"http://www.w3.org/2000/svg\" xmlns:xlink=\"http://www.w3.org/1999/xlink\">\n <defs>\n  <style type=\"text/css\">\n*{stroke-linecap:butt;stroke-linejoin:round;}\n  </style>\n </defs>\n <g id=\"figure_1\">\n  <g id=\"patch_1\">\n   <path d=\"M 0 251.472104 \nL 390.029687 251.472104 \nL 390.029687 0 \nL 0 0 \nz\n\" style=\"fill:none;\"/>\n  </g>\n  <g id=\"axes_1\">\n   <g id=\"patch_2\">\n    <path d=\"M 48.029688 227.593979 \nL 382.829688 227.593979 \nL 382.829688 10.153979 \nL 48.029688 10.153979 \nz\n\" style=\"fill:#ffffff;\"/>\n   </g>\n   <g id=\"matplotlib.axis_1\">\n    <g id=\"xtick_1\">\n     <g id=\"line2d_1\">\n      <defs>\n       <path d=\"M 0 0 \nL 0 3.5 \n\" id=\"m1e2eea8d93\" style=\"stroke:#000000;stroke-width:0.8;\"/>\n      </defs>\n      <g>\n       <use style=\"stroke:#000000;stroke-width:0.8;\" x=\"63.247869\" xlink:href=\"#m1e2eea8d93\" y=\"227.593979\"/>\n      </g>\n     </g>\n     <g id=\"text_1\">\n      <!-- 0 -->\n      <defs>\n       <path d=\"M 31.78125 66.40625 \nQ 24.171875 66.40625 20.328125 58.90625 \nQ 16.5 51.421875 16.5 36.375 \nQ 16.5 21.390625 20.328125 13.890625 \nQ 24.171875 6.390625 31.78125 6.390625 \nQ 39.453125 6.390625 43.28125 13.890625 \nQ 47.125 21.390625 47.125 36.375 \nQ 47.125 51.421875 43.28125 58.90625 \nQ 39.453125 66.40625 31.78125 66.40625 \nz\nM 31.78125 74.21875 \nQ 44.046875 74.21875 50.515625 64.515625 \nQ 56.984375 54.828125 56.984375 36.375 \nQ 56.984375 17.96875 50.515625 8.265625 \nQ 44.046875 -1.421875 31.78125 -1.421875 \nQ 19.53125 -1.421875 13.0625 8.265625 \nQ 6.59375 17.96875 6.59375 36.375 \nQ 6.59375 54.828125 13.0625 64.515625 \nQ 19.53125 74.21875 31.78125 74.21875 \nz\n\" id=\"DejaVuSans-48\"/>\n      </defs>\n      <g transform=\"translate(60.066619 242.192417)scale(0.1 -0.1)\">\n       <use xlink:href=\"#DejaVuSans-48\"/>\n      </g>\n     </g>\n    </g>\n    <g id=\"xtick_2\">\n     <g id=\"line2d_2\">\n      <g>\n       <use style=\"stroke:#000000;stroke-width:0.8;\" x=\"124.18153\" xlink:href=\"#m1e2eea8d93\" y=\"227.593979\"/>\n      </g>\n     </g>\n     <g id=\"text_2\">\n      <!-- 200 -->\n      <defs>\n       <path d=\"M 19.1875 8.296875 \nL 53.609375 8.296875 \nL 53.609375 0 \nL 7.328125 0 \nL 7.328125 8.296875 \nQ 12.9375 14.109375 22.625 23.890625 \nQ 32.328125 33.6875 34.8125 36.53125 \nQ 39.546875 41.84375 41.421875 45.53125 \nQ 43.3125 49.21875 43.3125 52.78125 \nQ 43.3125 58.59375 39.234375 62.25 \nQ 35.15625 65.921875 28.609375 65.921875 \nQ 23.96875 65.921875 18.8125 64.3125 \nQ 13.671875 62.703125 7.8125 59.421875 \nL 7.8125 69.390625 \nQ 13.765625 71.78125 18.9375 73 \nQ 24.125 74.21875 28.421875 74.21875 \nQ 39.75 74.21875 46.484375 68.546875 \nQ 53.21875 62.890625 53.21875 53.421875 \nQ 53.21875 48.921875 51.53125 44.890625 \nQ 49.859375 40.875 45.40625 35.40625 \nQ 44.1875 33.984375 37.640625 27.21875 \nQ 31.109375 20.453125 19.1875 8.296875 \nz\n\" id=\"DejaVuSans-50\"/>\n      </defs>\n      <g transform=\"translate(114.63778 242.192417)scale(0.1 -0.1)\">\n       <use xlink:href=\"#DejaVuSans-50\"/>\n       <use x=\"63.623047\" xlink:href=\"#DejaVuSans-48\"/>\n       <use x=\"127.246094\" xlink:href=\"#DejaVuSans-48\"/>\n      </g>\n     </g>\n    </g>\n    <g id=\"xtick_3\">\n     <g id=\"line2d_3\">\n      <g>\n       <use style=\"stroke:#000000;stroke-width:0.8;\" x=\"185.115191\" xlink:href=\"#m1e2eea8d93\" y=\"227.593979\"/>\n      </g>\n     </g>\n     <g id=\"text_3\">\n      <!-- 400 -->\n      <defs>\n       <path d=\"M 37.796875 64.3125 \nL 12.890625 25.390625 \nL 37.796875 25.390625 \nz\nM 35.203125 72.90625 \nL 47.609375 72.90625 \nL 47.609375 25.390625 \nL 58.015625 25.390625 \nL 58.015625 17.1875 \nL 47.609375 17.1875 \nL 47.609375 0 \nL 37.796875 0 \nL 37.796875 17.1875 \nL 4.890625 17.1875 \nL 4.890625 26.703125 \nz\n\" id=\"DejaVuSans-52\"/>\n      </defs>\n      <g transform=\"translate(175.571441 242.192417)scale(0.1 -0.1)\">\n       <use xlink:href=\"#DejaVuSans-52\"/>\n       <use x=\"63.623047\" xlink:href=\"#DejaVuSans-48\"/>\n       <use x=\"127.246094\" xlink:href=\"#DejaVuSans-48\"/>\n      </g>\n     </g>\n    </g>\n    <g id=\"xtick_4\">\n     <g id=\"line2d_4\">\n      <g>\n       <use style=\"stroke:#000000;stroke-width:0.8;\" x=\"246.048852\" xlink:href=\"#m1e2eea8d93\" y=\"227.593979\"/>\n      </g>\n     </g>\n     <g id=\"text_4\">\n      <!-- 600 -->\n      <defs>\n       <path d=\"M 33.015625 40.375 \nQ 26.375 40.375 22.484375 35.828125 \nQ 18.609375 31.296875 18.609375 23.390625 \nQ 18.609375 15.53125 22.484375 10.953125 \nQ 26.375 6.390625 33.015625 6.390625 \nQ 39.65625 6.390625 43.53125 10.953125 \nQ 47.40625 15.53125 47.40625 23.390625 \nQ 47.40625 31.296875 43.53125 35.828125 \nQ 39.65625 40.375 33.015625 40.375 \nz\nM 52.59375 71.296875 \nL 52.59375 62.3125 \nQ 48.875 64.0625 45.09375 64.984375 \nQ 41.3125 65.921875 37.59375 65.921875 \nQ 27.828125 65.921875 22.671875 59.328125 \nQ 17.53125 52.734375 16.796875 39.40625 \nQ 19.671875 43.65625 24.015625 45.921875 \nQ 28.375 48.1875 33.59375 48.1875 \nQ 44.578125 48.1875 50.953125 41.515625 \nQ 57.328125 34.859375 57.328125 23.390625 \nQ 57.328125 12.15625 50.6875 5.359375 \nQ 44.046875 -1.421875 33.015625 -1.421875 \nQ 20.359375 -1.421875 13.671875 8.265625 \nQ 6.984375 17.96875 6.984375 36.375 \nQ 6.984375 53.65625 15.1875 63.9375 \nQ 23.390625 74.21875 37.203125 74.21875 \nQ 40.921875 74.21875 44.703125 73.484375 \nQ 48.484375 72.75 52.59375 71.296875 \nz\n\" id=\"DejaVuSans-54\"/>\n      </defs>\n      <g transform=\"translate(236.505102 242.192417)scale(0.1 -0.1)\">\n       <use xlink:href=\"#DejaVuSans-54\"/>\n       <use x=\"63.623047\" xlink:href=\"#DejaVuSans-48\"/>\n       <use x=\"127.246094\" xlink:href=\"#DejaVuSans-48\"/>\n      </g>\n     </g>\n    </g>\n    <g id=\"xtick_5\">\n     <g id=\"line2d_5\">\n      <g>\n       <use style=\"stroke:#000000;stroke-width:0.8;\" x=\"306.982513\" xlink:href=\"#m1e2eea8d93\" y=\"227.593979\"/>\n      </g>\n     </g>\n     <g id=\"text_5\">\n      <!-- 800 -->\n      <defs>\n       <path d=\"M 31.78125 34.625 \nQ 24.75 34.625 20.71875 30.859375 \nQ 16.703125 27.09375 16.703125 20.515625 \nQ 16.703125 13.921875 20.71875 10.15625 \nQ 24.75 6.390625 31.78125 6.390625 \nQ 38.8125 6.390625 42.859375 10.171875 \nQ 46.921875 13.96875 46.921875 20.515625 \nQ 46.921875 27.09375 42.890625 30.859375 \nQ 38.875 34.625 31.78125 34.625 \nz\nM 21.921875 38.8125 \nQ 15.578125 40.375 12.03125 44.71875 \nQ 8.5 49.078125 8.5 55.328125 \nQ 8.5 64.0625 14.71875 69.140625 \nQ 20.953125 74.21875 31.78125 74.21875 \nQ 42.671875 74.21875 48.875 69.140625 \nQ 55.078125 64.0625 55.078125 55.328125 \nQ 55.078125 49.078125 51.53125 44.71875 \nQ 48 40.375 41.703125 38.8125 \nQ 48.828125 37.15625 52.796875 32.3125 \nQ 56.78125 27.484375 56.78125 20.515625 \nQ 56.78125 9.90625 50.3125 4.234375 \nQ 43.84375 -1.421875 31.78125 -1.421875 \nQ 19.734375 -1.421875 13.25 4.234375 \nQ 6.78125 9.90625 6.78125 20.515625 \nQ 6.78125 27.484375 10.78125 32.3125 \nQ 14.796875 37.15625 21.921875 38.8125 \nz\nM 18.3125 54.390625 \nQ 18.3125 48.734375 21.84375 45.5625 \nQ 25.390625 42.390625 31.78125 42.390625 \nQ 38.140625 42.390625 41.71875 45.5625 \nQ 45.3125 48.734375 45.3125 54.390625 \nQ 45.3125 60.0625 41.71875 63.234375 \nQ 38.140625 66.40625 31.78125 66.40625 \nQ 25.390625 66.40625 21.84375 63.234375 \nQ 18.3125 60.0625 18.3125 54.390625 \nz\n\" id=\"DejaVuSans-56\"/>\n      </defs>\n      <g transform=\"translate(297.438763 242.192417)scale(0.1 -0.1)\">\n       <use xlink:href=\"#DejaVuSans-56\"/>\n       <use x=\"63.623047\" xlink:href=\"#DejaVuSans-48\"/>\n       <use x=\"127.246094\" xlink:href=\"#DejaVuSans-48\"/>\n      </g>\n     </g>\n    </g>\n    <g id=\"xtick_6\">\n     <g id=\"line2d_6\">\n      <g>\n       <use style=\"stroke:#000000;stroke-width:0.8;\" x=\"367.916174\" xlink:href=\"#m1e2eea8d93\" y=\"227.593979\"/>\n      </g>\n     </g>\n     <g id=\"text_6\">\n      <!-- 1000 -->\n      <defs>\n       <path d=\"M 12.40625 8.296875 \nL 28.515625 8.296875 \nL 28.515625 63.921875 \nL 10.984375 60.40625 \nL 10.984375 69.390625 \nL 28.421875 72.90625 \nL 38.28125 72.90625 \nL 38.28125 8.296875 \nL 54.390625 8.296875 \nL 54.390625 0 \nL 12.40625 0 \nz\n\" id=\"DejaVuSans-49\"/>\n      </defs>\n      <g transform=\"translate(355.191174 242.192417)scale(0.1 -0.1)\">\n       <use xlink:href=\"#DejaVuSans-49\"/>\n       <use x=\"63.623047\" xlink:href=\"#DejaVuSans-48\"/>\n       <use x=\"127.246094\" xlink:href=\"#DejaVuSans-48\"/>\n       <use x=\"190.869141\" xlink:href=\"#DejaVuSans-48\"/>\n      </g>\n     </g>\n    </g>\n   </g>\n   <g id=\"matplotlib.axis_2\">\n    <g id=\"ytick_1\">\n     <g id=\"line2d_7\">\n      <defs>\n       <path d=\"M 0 0 \nL -3.5 0 \n\" id=\"m47918b2900\" style=\"stroke:#000000;stroke-width:0.8;\"/>\n      </defs>\n      <g>\n       <use style=\"stroke:#000000;stroke-width:0.8;\" x=\"48.029688\" xlink:href=\"#m47918b2900\" y=\"189.070974\"/>\n      </g>\n     </g>\n     <g id=\"text_7\">\n      <!-- −2000 -->\n      <defs>\n       <path d=\"M 10.59375 35.5 \nL 73.1875 35.5 \nL 73.1875 27.203125 \nL 10.59375 27.203125 \nz\n\" id=\"DejaVuSans-8722\"/>\n      </defs>\n      <g transform=\"translate(7.2 192.870193)scale(0.1 -0.1)\">\n       <use xlink:href=\"#DejaVuSans-8722\"/>\n       <use x=\"83.789062\" xlink:href=\"#DejaVuSans-50\"/>\n       <use x=\"147.412109\" xlink:href=\"#DejaVuSans-48\"/>\n       <use x=\"211.035156\" xlink:href=\"#DejaVuSans-48\"/>\n       <use x=\"274.658203\" xlink:href=\"#DejaVuSans-48\"/>\n      </g>\n     </g>\n    </g>\n    <g id=\"ytick_2\">\n     <g id=\"line2d_8\">\n      <g>\n       <use style=\"stroke:#000000;stroke-width:0.8;\" x=\"48.029688\" xlink:href=\"#m47918b2900\" y=\"144.553035\"/>\n      </g>\n     </g>\n     <g id=\"text_8\">\n      <!-- −1800 -->\n      <g transform=\"translate(7.2 148.352254)scale(0.1 -0.1)\">\n       <use xlink:href=\"#DejaVuSans-8722\"/>\n       <use x=\"83.789062\" xlink:href=\"#DejaVuSans-49\"/>\n       <use x=\"147.412109\" xlink:href=\"#DejaVuSans-56\"/>\n       <use x=\"211.035156\" xlink:href=\"#DejaVuSans-48\"/>\n       <use x=\"274.658203\" xlink:href=\"#DejaVuSans-48\"/>\n      </g>\n     </g>\n    </g>\n    <g id=\"ytick_3\">\n     <g id=\"line2d_9\">\n      <g>\n       <use style=\"stroke:#000000;stroke-width:0.8;\" x=\"48.029688\" xlink:href=\"#m47918b2900\" y=\"100.035096\"/>\n      </g>\n     </g>\n     <g id=\"text_9\">\n      <!-- −1600 -->\n      <g transform=\"translate(7.2 103.834315)scale(0.1 -0.1)\">\n       <use xlink:href=\"#DejaVuSans-8722\"/>\n       <use x=\"83.789062\" xlink:href=\"#DejaVuSans-49\"/>\n       <use x=\"147.412109\" xlink:href=\"#DejaVuSans-54\"/>\n       <use x=\"211.035156\" xlink:href=\"#DejaVuSans-48\"/>\n       <use x=\"274.658203\" xlink:href=\"#DejaVuSans-48\"/>\n      </g>\n     </g>\n    </g>\n    <g id=\"ytick_4\">\n     <g id=\"line2d_10\">\n      <g>\n       <use style=\"stroke:#000000;stroke-width:0.8;\" x=\"48.029688\" xlink:href=\"#m47918b2900\" y=\"55.517158\"/>\n      </g>\n     </g>\n     <g id=\"text_10\">\n      <!-- −1400 -->\n      <g transform=\"translate(7.2 59.316376)scale(0.1 -0.1)\">\n       <use xlink:href=\"#DejaVuSans-8722\"/>\n       <use x=\"83.789062\" xlink:href=\"#DejaVuSans-49\"/>\n       <use x=\"147.412109\" xlink:href=\"#DejaVuSans-52\"/>\n       <use x=\"211.035156\" xlink:href=\"#DejaVuSans-48\"/>\n       <use x=\"274.658203\" xlink:href=\"#DejaVuSans-48\"/>\n      </g>\n     </g>\n    </g>\n    <g id=\"ytick_5\">\n     <g id=\"line2d_11\">\n      <g>\n       <use style=\"stroke:#000000;stroke-width:0.8;\" x=\"48.029688\" xlink:href=\"#m47918b2900\" y=\"10.999219\"/>\n      </g>\n     </g>\n     <g id=\"text_11\">\n      <!-- −1200 -->\n      <g transform=\"translate(7.2 14.798437)scale(0.1 -0.1)\">\n       <use xlink:href=\"#DejaVuSans-8722\"/>\n       <use x=\"83.789062\" xlink:href=\"#DejaVuSans-49\"/>\n       <use x=\"147.412109\" xlink:href=\"#DejaVuSans-50\"/>\n       <use x=\"211.035156\" xlink:href=\"#DejaVuSans-48\"/>\n       <use x=\"274.658203\" xlink:href=\"#DejaVuSans-48\"/>\n      </g>\n     </g>\n    </g>\n   </g>\n   <g id=\"line2d_12\">\n    <path clip-path=\"url(#p72aafebb7e)\" d=\"M 63.247869 217.710343 \nL 63.552538 179.807342 \nL 63.857206 178.421767 \nL 64.161874 173.761361 \nL 64.466543 157.557635 \nL 65.380547 134.000837 \nL 65.685216 120.808402 \nL 65.989884 120.808402 \nL 66.294552 101.744148 \nL 66.599221 101.744148 \nL 66.903889 97.734796 \nL 67.208557 95.58771 \nL 67.513226 90.507045 \nL 67.817894 87.693586 \nL 68.42723 87.693586 \nL 69.036567 84.255525 \nL 69.341235 83.904985 \nL 69.645904 79.580517 \nL 69.950572 79.185582 \nL 70.25524 74.781102 \nL 70.559909 74.781102 \nL 71.169245 67.024573 \nL 71.473914 67.024573 \nL 71.778582 64.901227 \nL 72.08325 64.901227 \nL 72.387918 64.306886 \nL 72.692587 64.237876 \nL 72.997255 62.902006 \nL 73.606592 62.902006 \nL 73.91126 59.100734 \nL 74.215928 53.083797 \nL 74.520597 53.083797 \nL 75.129933 51.856265 \nL 75.434602 50.437295 \nL 76.043938 50.437295 \nL 76.348606 45.189192 \nL 76.957943 45.189192 \nL 77.262611 44.318626 \nL 77.56728 40.051017 \nL 78.176616 40.051017 \nL 78.785953 36.202622 \nL 79.090621 35.579652 \nL 79.395289 32.210817 \nL 81.527968 32.210817 \nL 81.832636 30.140373 \nL 86.097992 30.140373 \nL 86.40266 29.585165 \nL 86.707329 28.543501 \nL 89.754012 28.543501 \nL 90.05868 27.92407 \nL 90.363348 27.865948 \nL 90.668017 23.79985 \nL 92.800695 23.79985 \nL 93.105363 22.814251 \nL 94.933373 22.814251 \nL 95.238041 22.387415 \nL 95.54271 22.387415 \nL 95.847378 21.501439 \nL 102.245412 21.501439 \nL 102.550081 20.587523 \nL 104.073422 20.587523 \nL 104.37809 20.36248 \nL 104.987427 20.282612 \nL 105.292095 20.282612 \nL 105.596764 20.037616 \nL 367.611506 20.037616 \nL 367.611506 20.037616 \n\" style=\"fill:none;stroke:#1f77b4;stroke-linecap:square;stroke-width:1.5;\"/>\n   </g>\n   <g id=\"patch_3\">\n    <path d=\"M 48.029688 227.593979 \nL 48.029688 10.153979 \n\" style=\"fill:none;stroke:#000000;stroke-linecap:square;stroke-linejoin:miter;stroke-width:0.8;\"/>\n   </g>\n   <g id=\"patch_4\">\n    <path d=\"M 382.829688 227.593979 \nL 382.829688 10.153979 \n\" style=\"fill:none;stroke:#000000;stroke-linecap:square;stroke-linejoin:miter;stroke-width:0.8;\"/>\n   </g>\n   <g id=\"patch_5\">\n    <path d=\"M 48.029688 227.593979 \nL 382.829687 227.593979 \n\" style=\"fill:none;stroke:#000000;stroke-linecap:square;stroke-linejoin:miter;stroke-width:0.8;\"/>\n   </g>\n   <g id=\"patch_6\">\n    <path d=\"M 48.029688 10.153979 \nL 382.829687 10.153979 \n\" style=\"fill:none;stroke:#000000;stroke-linecap:square;stroke-linejoin:miter;stroke-width:0.8;\"/>\n   </g>\n  </g>\n </g>\n <defs>\n  <clipPath id=\"p72aafebb7e\">\n   <rect height=\"217.44\" width=\"334.8\" x=\"48.029688\" y=\"10.153979\"/>\n  </clipPath>\n </defs>\n</svg>\n",
      "text/plain": "<Figure size 432x288 with 1 Axes>"
     },
     "metadata": {
      "needs_background": "light"
     },
     "output_type": "display_data"
    }
   ],
   "source": [
    "plt.plot(scores)"
   ]
  },
  {
   "cell_type": "code",
   "execution_count": 37,
   "metadata": {},
   "outputs": [],
   "source": [
    "best_decipher = decipers[0]"
   ]
  },
  {
   "cell_type": "code",
   "execution_count": 38,
   "metadata": {},
   "outputs": [
    {
     "data": {
      "text/plain": "'u pces yftsdeh hfvs pce kpjeep bsh lftsh, bk u enzerpeh, pcbp pceje vbk b gevk us b ybse vcurc jtsk hfvs oi fse vbyy fl pce dbjhes. u yesp pce fkpyejk b cbsh us jtoousd hfvs pceuj cfjkek, bsh jereuaeh us enrcbsde pvfzesre, b dybkk fl cbyl bsh cbyl, pvf luyyk fl kcbd pfobrrf, bsh bk gtrc uslfjgbpufs bk u rftyh hekuje boftp gukk bhyej, pf kbi sfpcusd fl cbyl b hfwes fpcej zefzye us pce seudcoftjcffh us vcfg u vbk sfp us pce yebkp uspejekpeh, otp vcfke oufdjbzcuek u vbk rfgzeyyeh pf yukpes pf.'"
     },
     "execution_count": 38,
     "metadata": {},
     "output_type": "execute_result"
    }
   ],
   "source": [
    "encrypted_message"
   ]
  },
  {
   "cell_type": "code",
   "execution_count": 39,
   "metadata": {},
   "outputs": [
    {
     "data": {
      "text/plain": "'i then lounged down the street and yound, as i expected, that there was a mews in a lane which runs down fk one wall oy the garden. i lent the ostlers a hand in ruffing down their horses, and received in exchange twopence, a glass oy haly and haly, two yills oy shag tofacco, and as much inyormation as i could desire afout miss adler, to sak nothing oy haly a doben other people in the neighfourhood in whom i was not in the least interested, fut whose fiographies i was compelled to listen to.'"
     },
     "execution_count": 39,
     "metadata": {},
     "output_type": "execute_result"
    }
   ],
   "source": [
    "best_decipher(encrypted_message)"
   ]
  },
  {
   "cell_type": "code",
   "execution_count": 40,
   "metadata": {},
   "outputs": [
    {
     "data": {
      "text/plain": "'i then lounged down the street and found, as i expected, that there was a mews in a lane which runs down by one wall of the garden. i lent the ostlers a hand in rubbing down their horses, and received in exchange twopence, a glass of half and half, two fills of shag tobacco, and as much information as i could desire about miss adler, to say nothing of half a dozen other people in the neighbourhood in whom i was not in the least interested, but whose biographies i was compelled to listen to.'"
     },
     "execution_count": 40,
     "metadata": {},
     "output_type": "execute_result"
    }
   ],
   "source": [
    "original_message.lower().replace('\\n', ' ').replace('-', ' ').strip()"
   ]
  },
  {
   "cell_type": "code",
   "execution_count": 42,
   "metadata": {},
   "outputs": [
    {
     "name": "stdout",
     "output_type": "stream",
     "text": "I then lounged down the street and found,\nas I expected, that there was a mews in a lane which runs down\nby one wall of the garden. I lent the ostlers a hand in rubbing\ndown their horses, and received in exchange twopence, a glass of\nhalf-and-half, two fills of shag tobacco, and as much information\nas I could desire about Miss Adler, to say nothing of half a dozen\nother people in the neighbourhood in whom I was not in the least\ninterested, but whose biographies I was compelled to listen to.\n\n"
    }
   ],
   "source": [
    "print(original_message)"
   ]
  },
  {
   "cell_type": "code",
   "execution_count": null,
   "metadata": {},
   "outputs": [],
   "source": []
  }
 ],
 "metadata": {
  "kernelspec": {
   "display_name": "Python 3",
   "language": "python",
   "name": "python3"
  },
  "language_info": {
   "codemirror_mode": {
    "name": "ipython",
    "version": 3
   },
   "file_extension": ".py",
   "mimetype": "text/x-python",
   "name": "python",
   "nbconvert_exporter": "python",
   "pygments_lexer": "ipython3",
   "version": "3.6.8-final"
  },
  "toc": {
   "nav_menu": {},
   "number_sections": true,
   "sideBar": true,
   "skip_h1_title": false,
   "toc_cell": false,
   "toc_position": {},
   "toc_section_display": "block",
   "toc_window_display": false
  }
 },
 "nbformat": 4,
 "nbformat_minor": 4
}