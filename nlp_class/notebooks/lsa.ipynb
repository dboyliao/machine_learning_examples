{
 "cells": [
  {
   "cell_type": "markdown",
   "metadata": {},
   "source": [
    "![lsa-concept](lsa_concept.png)"
   ]
  },
  {
   "cell_type": "code",
   "execution_count": 1,
   "metadata": {
    "ExecuteTime": {
     "end_time": "2020-03-15T14:59:27.744440Z",
     "start_time": "2020-03-15T14:59:27.138747Z"
    }
   },
   "outputs": [],
   "source": [
    "%matplotlib inline"
   ]
  },
  {
   "cell_type": "code",
   "execution_count": 2,
   "metadata": {
    "ExecuteTime": {
     "end_time": "2020-03-15T14:59:30.324232Z",
     "start_time": "2020-03-15T14:59:28.575124Z"
    }
   },
   "outputs": [],
   "source": [
    "from nltk.stem import WordNetLemmatizer\n",
    "from sklearn.decomposition import TruncatedSVD"
   ]
  },
  {
   "cell_type": "code",
   "execution_count": 3,
   "metadata": {
    "ExecuteTime": {
     "end_time": "2020-03-15T14:59:30.355943Z",
     "start_time": "2020-03-15T14:59:30.326359Z"
    }
   },
   "outputs": [],
   "source": [
    "with open('../all_book_titles.txt', 'r') as fid:\n",
    "    titles = [l.strip() for l in fid.readlines()]"
   ]
  },
  {
   "cell_type": "code",
   "execution_count": 4,
   "metadata": {
    "ExecuteTime": {
     "end_time": "2020-03-15T14:59:30.365771Z",
     "start_time": "2020-03-15T14:59:30.359534Z"
    }
   },
   "outputs": [],
   "source": [
    "with open('../stopwords.txt', 'r') as fid:\n",
    "    stopwords = set([\n",
    "        l.strip() for l in fid.readlines()\n",
    "    ])"
   ]
  },
  {
   "cell_type": "code",
   "execution_count": 5,
   "metadata": {
    "ExecuteTime": {
     "end_time": "2020-03-15T14:59:30.373786Z",
     "start_time": "2020-03-15T14:59:30.368957Z"
    }
   },
   "outputs": [],
   "source": [
    "stopwords = stopwords.union({\n",
    "    \"introduction\",\n",
    "    \"edition\",\n",
    "    \"series\",\n",
    "    \"application\",\n",
    "    \"approach\",\n",
    "    \"card\",\n",
    "    \"access\",\n",
    "    \"package\",\n",
    "    \"plus\",\n",
    "    \"etext\",\n",
    "    \"brief\",\n",
    "    \"vol\",\n",
    "    \"fundamental\",\n",
    "    \"guide\",\n",
    "    \"essential\",\n",
    "    \"printed\",\n",
    "    \"third\",\n",
    "    \"second\",\n",
    "    \"fourth\",\n",
    "    '...',\n",
    "})"
   ]
  },
  {
   "cell_type": "code",
   "execution_count": 6,
   "metadata": {
    "ExecuteTime": {
     "end_time": "2020-03-15T14:59:31.136961Z",
     "start_time": "2020-03-15T14:59:31.134080Z"
    }
   },
   "outputs": [],
   "source": [
    "import nltk"
   ]
  },
  {
   "cell_type": "code",
   "execution_count": 7,
   "metadata": {
    "ExecuteTime": {
     "end_time": "2020-03-15T14:59:31.533286Z",
     "start_time": "2020-03-15T14:59:31.529747Z"
    }
   },
   "outputs": [],
   "source": [
    "map_ = lambda f, l: list(map(f, l))\n",
    "filter_ = lambda f, l: list(filter(f, l))"
   ]
  },
  {
   "cell_type": "code",
   "execution_count": 8,
   "metadata": {
    "ExecuteTime": {
     "end_time": "2020-03-15T14:59:31.986311Z",
     "start_time": "2020-03-15T14:59:31.981025Z"
    }
   },
   "outputs": [],
   "source": [
    "wn = WordNetLemmatizer()"
   ]
  },
  {
   "cell_type": "code",
   "execution_count": 9,
   "metadata": {
    "ExecuteTime": {
     "end_time": "2020-03-15T14:59:32.426377Z",
     "start_time": "2020-03-15T14:59:32.422469Z"
    }
   },
   "outputs": [],
   "source": [
    "from sklearn.feature_extraction.text import CountVectorizer"
   ]
  },
  {
   "cell_type": "code",
   "execution_count": 23,
   "metadata": {
    "ExecuteTime": {
     "end_time": "2020-03-15T15:00:06.292221Z",
     "start_time": "2020-03-15T15:00:06.287279Z"
    }
   },
   "outputs": [],
   "source": [
    "cnt_vec = CountVectorizer(\n",
    "    stop_words=stopwords,\n",
    "    tokenizer=lambda text: filter_(lambda t: len(t) > 2, map_(wn.lemmatize, nltk.tokenize.word_tokenize(text.lower())))\n",
    ")"
   ]
  },
  {
   "cell_type": "code",
   "execution_count": 24,
   "metadata": {
    "ExecuteTime": {
     "end_time": "2020-03-15T15:00:08.181942Z",
     "start_time": "2020-03-15T15:00:07.745494Z"
    }
   },
   "outputs": [
    {
     "name": "stderr",
     "output_type": "stream",
     "text": [
      "/Users/dboyliao/Documents/MOOCs/Udemy/machine_learning_examples/nlp_class/.venv/lib/python3.6/site-packages/sklearn/feature_extraction/text.py:385: UserWarning: Your stop_words may be inconsistent with your preprocessing. Tokenizing the stop words generated tokens ['doe'] not in stop_words.\n",
      "  'stop_words.' % sorted(inconsistent))\n"
     ]
    }
   ],
   "source": [
    "X = cnt_vec.fit_transform(titles)"
   ]
  },
  {
   "cell_type": "code",
   "execution_count": 26,
   "metadata": {
    "ExecuteTime": {
     "end_time": "2020-03-15T15:00:14.372301Z",
     "start_time": "2020-03-15T15:00:14.366648Z"
    }
   },
   "outputs": [
    {
     "data": {
      "text/plain": [
       "0"
      ]
     },
     "execution_count": 26,
     "metadata": {},
     "output_type": "execute_result"
    }
   ],
   "source": [
    "X.min()"
   ]
  },
  {
   "cell_type": "code",
   "execution_count": 27,
   "metadata": {
    "ExecuteTime": {
     "end_time": "2020-03-15T15:00:15.745336Z",
     "start_time": "2020-03-15T15:00:15.739976Z"
    }
   },
   "outputs": [],
   "source": [
    "X[X > 0] = 1"
   ]
  },
  {
   "cell_type": "code",
   "execution_count": 29,
   "metadata": {
    "ExecuteTime": {
     "end_time": "2020-03-15T15:00:22.130592Z",
     "start_time": "2020-03-15T15:00:22.121143Z"
    }
   },
   "outputs": [],
   "source": [
    "X = X.todense()"
   ]
  },
  {
   "cell_type": "code",
   "execution_count": 30,
   "metadata": {
    "ExecuteTime": {
     "end_time": "2020-03-15T15:00:22.972107Z",
     "start_time": "2020-03-15T15:00:22.966583Z"
    }
   },
   "outputs": [
    {
     "data": {
      "text/plain": [
       "(2373, 2172)"
      ]
     },
     "execution_count": 30,
     "metadata": {},
     "output_type": "execute_result"
    }
   ],
   "source": [
    "X.shape"
   ]
  },
  {
   "cell_type": "code",
   "execution_count": 31,
   "metadata": {
    "ExecuteTime": {
     "end_time": "2020-03-15T15:00:23.396975Z",
     "start_time": "2020-03-15T15:00:23.392898Z"
    }
   },
   "outputs": [],
   "source": [
    "svd = TruncatedSVD()"
   ]
  },
  {
   "cell_type": "code",
   "execution_count": 32,
   "metadata": {
    "ExecuteTime": {
     "end_time": "2020-03-15T15:00:24.029770Z",
     "start_time": "2020-03-15T15:00:23.645099Z"
    }
   },
   "outputs": [],
   "source": [
    "Z = svd.fit_transform(X.T)"
   ]
  },
  {
   "cell_type": "code",
   "execution_count": 33,
   "metadata": {
    "ExecuteTime": {
     "end_time": "2020-03-15T15:00:24.040961Z",
     "start_time": "2020-03-15T15:00:24.031982Z"
    }
   },
   "outputs": [
    {
     "data": {
      "text/plain": [
       "(2172, 2)"
      ]
     },
     "execution_count": 33,
     "metadata": {},
     "output_type": "execute_result"
    }
   ],
   "source": [
    "Z.shape"
   ]
  },
  {
   "cell_type": "code",
   "execution_count": 34,
   "metadata": {
    "ExecuteTime": {
     "end_time": "2020-03-15T15:00:24.765748Z",
     "start_time": "2020-03-15T15:00:24.761908Z"
    }
   },
   "outputs": [],
   "source": [
    "import matplotlib.pyplot as plt"
   ]
  },
  {
   "cell_type": "code",
   "execution_count": 35,
   "metadata": {
    "ExecuteTime": {
     "end_time": "2020-03-15T15:00:25.221800Z",
     "start_time": "2020-03-15T15:00:25.215984Z"
    }
   },
   "outputs": [],
   "source": [
    "index2text_map = {i: name for i, name in enumerate(cnt_vec.get_feature_names())}"
   ]
  },
  {
   "cell_type": "code",
   "execution_count": 36,
   "metadata": {
    "ExecuteTime": {
     "end_time": "2020-03-15T15:00:25.900811Z",
     "start_time": "2020-03-15T15:00:25.893651Z"
    }
   },
   "outputs": [
    {
     "data": {
      "text/plain": [
       "2172"
      ]
     },
     "execution_count": 36,
     "metadata": {},
     "output_type": "execute_result"
    }
   ],
   "source": [
    "len(index2text_map)"
   ]
  },
  {
   "cell_type": "code",
   "execution_count": 37,
   "metadata": {
    "ExecuteTime": {
     "end_time": "2020-03-15T15:00:39.327642Z",
     "start_time": "2020-03-15T15:00:30.141005Z"
    }
   },
   "outputs": [
    {
     "data": {
      "image/png": "[encoded data removed]",
      "text/plain": [
       "<Figure size 432x288 with 1 Axes>"
      ]
     },
     "metadata": {
      "needs_background": "light"
     },
     "output_type": "display_data"
    }
   ],
   "source": [
    "plt.scatter(Z[:, 0], Z[:, 1])\n",
    "for i in range(Z.shape[0]):\n",
    "    plt.annotate(s=index2text_map[i], xy=(Z[i, 0], Z[i, 1]))"
   ]
  },
  {
   "cell_type": "code",
   "execution_count": null,
   "metadata": {},
   "outputs": [],
   "source": []
  }
 ],
 "metadata": {
  "kernelspec": {
   "display_name": "Python 3",
   "language": "python",
   "name": "python3"
  },
  "language_info": {
   "codemirror_mode": {
    "name": "ipython",
    "version": 3
   },
   "file_extension": ".py",
   "mimetype": "text/x-python",
   "name": "python",
   "nbconvert_exporter": "python",
   "pygments_lexer": "ipython3",
   "version": "3.6.8"
  },
  "toc": {
   "nav_menu": {},
   "number_sections": true,
   "sideBar": true,
   "skip_h1_title": false,
   "toc_cell": false,
   "toc_position": {},
   "toc_section_display": "block",
   "toc_window_display": false
  }
 },
 "nbformat": 4,
 "nbformat_minor": 4
}
